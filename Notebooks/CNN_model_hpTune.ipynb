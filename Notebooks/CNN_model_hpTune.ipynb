{
 "cells": [
  {
   "cell_type": "markdown",
   "id": "7dc53bde",
   "metadata": {},
   "source": [
    "# **Predicting the perception of deprivation from VHR Satelite Images.**"
   ]
  },
  {
   "cell_type": "markdown",
   "id": "a42fb980",
   "metadata": {},
   "source": [
    "## Intro"
   ]
  },
  {
   "cell_type": "markdown",
   "id": "0a60416b",
   "metadata": {
    "tags": []
   },
   "source": [
    "This code is developed by [**Taïs Grippa**](https://github.com/tgrippa) for the **PARTIMAP** project, based on the initial code of [**Eqi Luo**](https://github.com/EqiLuo/MappingDeprivation). \n",
    "\n"
   ]
  },
  {
   "cell_type": "markdown",
   "id": "7b30b8e9",
   "metadata": {
    "tags": []
   },
   "source": [
    "## 0. Import libraries\n",
    "\n",
    "Firstly, install and import the necessary libraries for this analysis."
   ]
  },
  {
   "cell_type": "code",
   "execution_count": 1,
   "id": "052dd3e6-c901-41ca-8d7b-087d2fb2c57b",
   "metadata": {},
   "outputs": [],
   "source": [
    "import numpy as np\n",
    "import os\n",
    "import pandas as pd\n",
    "import glob\n",
    "import re\n",
    "from tensorflow import keras\n",
    "import natsort\n",
    "import sklearn\n",
    "import tensorflow as tf\n",
    "import datetime\n",
    "import sqlite3\n",
    "import cv2"
   ]
  },
  {
   "cell_type": "code",
   "execution_count": 2,
   "id": "378d1eb8-b34e-4a7c-8ff6-5f1e6dc5fcd9",
   "metadata": {},
   "outputs": [],
   "source": [
    "import matplotlib.pyplot as plt\n",
    "%matplotlib inline"
   ]
  },
  {
   "cell_type": "code",
   "execution_count": 3,
   "id": "61a39b35-679d-4c49-bcb8-500dc51fcb5e",
   "metadata": {},
   "outputs": [],
   "source": [
    "from sklearn.model_selection import train_test_split\n",
    "from osgeo import gdal\n",
    "from osgeo import gdal_array\n",
    "from natsort import natsorted\n",
    "from tensorflow.keras.models import Sequential\n",
    "from tensorflow.keras.utils import plot_model\n",
    "from tensorflow.keras import layers\n",
    "from tensorflow.keras.layers import Dense, Dropout, Activation, Flatten, Input\n",
    "from tensorflow.keras.layers import Conv2D, MaxPooling2D, BatchNormalization\n",
    "from tensorflow.keras.layers import RandomCrop, RandomContrast\n",
    "from tensorflow.keras.optimizers import SGD, Adam\n",
    "from tensorflow.keras.callbacks import ModelCheckpoint\n",
    "from tensorflow.keras.callbacks import ReduceLROnPlateau, EarlyStopping\n",
    "from tensorflow.keras.preprocessing.image import ImageDataGenerator\n",
    "from keras.utils import np_utils\n",
    "from keras import backend as K"
   ]
  },
  {
   "cell_type": "markdown",
   "id": "7d3cf8dc-f068-4cc9-9a4c-c04b04b4ef9b",
   "metadata": {},
   "source": [
    "Check the version of Tensorflow. It should be 2.7.0"
   ]
  },
  {
   "cell_type": "code",
   "execution_count": 4,
   "id": "a8722097-c42a-41eb-9b71-b07606d42a94",
   "metadata": {},
   "outputs": [
    {
     "name": "stdout",
     "output_type": "stream",
     "text": [
      "2.8.0\n"
     ]
    }
   ],
   "source": [
    "print(tf.__version__)"
   ]
  },
  {
   "cell_type": "markdown",
   "id": "4e029615-2b6f-45ab-bfc6-7955f1c3a2ad",
   "metadata": {},
   "source": [
    "Check the output of nvidia-smi utility to monitor the GPU usage."
   ]
  },
  {
   "cell_type": "code",
   "execution_count": 5,
   "id": "b7e9bae4-9aa2-43ab-ad44-d2547090c5ad",
   "metadata": {},
   "outputs": [
    {
     "name": "stdout",
     "output_type": "stream",
     "text": [
      "Mon Feb  7 15:44:48 2022       \n",
      "+-----------------------------------------------------------------------------+\n",
      "| NVIDIA-SMI 470.103.01   Driver Version: 470.103.01   CUDA Version: 11.4     |\n",
      "|-------------------------------+----------------------+----------------------+\n",
      "| GPU  Name        Persistence-M| Bus-Id        Disp.A | Volatile Uncorr. ECC |\n",
      "| Fan  Temp  Perf  Pwr:Usage/Cap|         Memory-Usage | GPU-Util  Compute M. |\n",
      "|                               |                      |               MIG M. |\n",
      "|===============================+======================+======================|\n",
      "|   0  NVIDIA GeForce ...  Off  | 00000000:05:00.0  On |                  N/A |\n",
      "| 24%   43C    P8    22W / 215W |    831MiB /  7981MiB |      8%      Default |\n",
      "|                               |                      |                  N/A |\n",
      "+-------------------------------+----------------------+----------------------+\n",
      "                                                                               \n",
      "+-----------------------------------------------------------------------------+\n",
      "| Processes:                                                                  |\n",
      "|  GPU   GI   CI        PID   Type   Process name                  GPU Memory |\n",
      "|        ID   ID                                                   Usage      |\n",
      "|=============================================================================|\n",
      "+-----------------------------------------------------------------------------+\n"
     ]
    }
   ],
   "source": [
    "! nvidia-smi"
   ]
  },
  {
   "cell_type": "markdown",
   "id": "9f4ef709-704e-47a0-99e5-ee256537b079",
   "metadata": {},
   "source": [
    "Import Keras Tuner for Hyperparameter tuning"
   ]
  },
  {
   "cell_type": "code",
   "execution_count": 6,
   "id": "9c5618ca-196f-4acc-afb3-ac3fce9dc1db",
   "metadata": {},
   "outputs": [],
   "source": [
    "import keras_tuner as kt\n",
    "from keras_tuner import HyperModel"
   ]
  },
  {
   "cell_type": "markdown",
   "id": "586f6eac",
   "metadata": {},
   "source": [
    "## 1. Data preparation \n",
    "\n",
    "**In this part, we load, organize and transform all the input data to the format of input for deep learning model.**"
   ]
  },
  {
   "cell_type": "markdown",
   "id": "870309d7",
   "metadata": {
    "tags": []
   },
   "source": [
    "### 1.1 Loading, structuring the data"
   ]
  },
  {
   "cell_type": "code",
   "execution_count": 7,
   "id": "ea965014",
   "metadata": {},
   "outputs": [],
   "source": [
    "# Define working path \n",
    "root = \"/home/partimap/PARTIMAP_processing\"\n",
    "#image_path = os.path.join(root, \"partimap_wv3_rgb\")\n",
    "image_path = os.path.join(root, \"partimap_wv3_VNIR\")\n",
    "label_path = os.path.join(root, \"partimap_ranking\")\n",
    "output_path = os.path.join(root, \"output\")\n",
    "model_path = os.path.join(output_path, \"model\")\n",
    "results_path = os.path.join(output_path, \"results\")"
   ]
  },
  {
   "cell_type": "code",
   "execution_count": 8,
   "id": "428882f9-d9a6-448b-aa3c-079d18539fb4",
   "metadata": {},
   "outputs": [
    {
     "name": "stdout",
     "output_type": "stream",
     "text": [
      "The directory already exists (/home/partimap/PARTIMAP_processing/output)\n",
      "The directory already exists (/home/partimap/PARTIMAP_processing/output/model)\n",
      "The directory already exists (/home/partimap/PARTIMAP_processing/output/results)\n"
     ]
    }
   ],
   "source": [
    "# Create directories if needed\n",
    "list_directories = [output_path, model_path, results_path]\n",
    "for path in list_directories:\n",
    "    if not os.path.exists(path):\n",
    "      os.makedirs(path)\n",
    "      print(\"A new directory has been created (%s)\"%path)\n",
    "    else :\n",
    "      print(\"The directory already exists (%s)\"%path)"
   ]
  },
  {
   "cell_type": "code",
   "execution_count": 9,
   "id": "0c2f75e1",
   "metadata": {},
   "outputs": [],
   "source": [
    "# Create a list of all the filenames of images\n",
    "tile_list = [x for x in os.listdir(image_path) if x.endswith(\".tif\")]\n",
    "\n",
    "# Sort the list naturally based on the number in the filename.\n",
    "tile_list = natsorted(tile_list)"
   ]
  },
  {
   "cell_type": "code",
   "execution_count": 10,
   "id": "305942fb-a6e0-41a5-9687-07e2d66809bb",
   "metadata": {
    "tags": []
   },
   "outputs": [],
   "source": [
    "# Remove unwanted images (images whith clouds that have been removed from the True-Skill ranking)\n",
    "unwanted_ids = [370,371,378,386,387,389,396,397,408,417,418,421,422,430,431,444,445,446,447,456,459,460,461,462,466,467,468,469,470,473,474,475,476,479,483,484,488,493,502,503,504,510,520]\n",
    "tile_list = [x for x in tile_list if int(os.path.splitext(x)[0].split(\"_\")[-1]) not in unwanted_ids]"
   ]
  },
  {
   "cell_type": "code",
   "execution_count": 11,
   "id": "072b66f1",
   "metadata": {},
   "outputs": [
    {
     "name": "stdout",
     "output_type": "stream",
     "text": [
      "(2005, 128, 128, 4)\n"
     ]
    }
   ],
   "source": [
    "# Loop over and read all the images as numpy array, then stack them together \n",
    "rawimgsize = 333 #raw data size (333x333 pixel)\n",
    "resizesize = 128 #resampling size\n",
    "stack = []\n",
    "for tile in tile_list: \n",
    "    ds = gdal.Open(image_path + os.path.sep + tile)\n",
    "    data = gdal_array.DatasetReadAsArray(ds, win_xsize=rawimgsize, win_ysize=rawimgsize, buf_xsize=resizesize, buf_ysize=resizesize) #resize (resample) raw data \n",
    "    data = np.transpose(data,(1,2,0)) #swap the axises to make the number of bands as the final dimension. \n",
    "    stack.append(data)\n",
    "\n",
    "# Now, change the list into numpy array \n",
    "stack = np.array(stack)\n",
    "print(stack.shape)"
   ]
  },
  {
   "cell_type": "code",
   "execution_count": 12,
   "id": "835dde55",
   "metadata": {},
   "outputs": [
    {
     "name": "stdout",
     "output_type": "stream",
     "text": [
      "float32\n"
     ]
    }
   ],
   "source": [
    "# check the datatype of the loaded numpy arrray\n",
    "print(stack.dtype)"
   ]
  },
  {
   "cell_type": "code",
   "execution_count": 13,
   "id": "7521ddf4-7bcc-45b0-a604-01b94c400581",
   "metadata": {},
   "outputs": [
    {
     "data": {
      "text/plain": [
       "array([[169., 173., 185., ..., 296., 301., 181.],\n",
       "       [154., 155., 155., ..., 301., 234., 109.],\n",
       "       [152., 151., 157., ...,  94.,  97.,  94.],\n",
       "       ...,\n",
       "       [290., 281., 299., ..., 122.,  87.,  52.],\n",
       "       [202., 201., 222., ...,  95., 130.,  71.],\n",
       "       [ 42.,  54.,  65., ..., 126., 105.,  79.]], dtype=float32)"
      ]
     },
     "execution_count": 13,
     "metadata": {},
     "output_type": "execute_result"
    }
   ],
   "source": [
    "stack[0,:,:,0]"
   ]
  },
  {
   "cell_type": "code",
   "execution_count": 14,
   "id": "47b2e139-3faf-44dc-88d2-c04d63f8793d",
   "metadata": {},
   "outputs": [
    {
     "name": "stdout",
     "output_type": "stream",
     "text": [
      "(2005, 128, 128, 4)\n"
     ]
    }
   ],
   "source": [
    "def standardise(image_data):\n",
    "    image_data -= np.mean(image_data, axis=0)\n",
    "    image_data /= np.std(image_data, axis=0)\n",
    "    return image_data\n",
    "\n",
    "def standardise_channel(image_data):\n",
    "    for ch_idx in range(image_data.shape[-1])[:1]:\n",
    "        mean = image_data[:,:,:,ch_idx].mean()\n",
    "        std = image_data[:,:,:,ch_idx].std()\n",
    "        image_data[:,:,:,ch_idx] -= mean\n",
    "        image_data[:,:,:,ch_idx] /= std\n",
    "    return image_data\n",
    "    \n",
    "def normalise_01(image_data):\n",
    "    image_data -= np.min(stack)\n",
    "    image_data /= (np.max(stack) - np.min(stack))\n",
    "    return image_data\n",
    "\n",
    "#stack = standardise_channel(stack)\n",
    "stack = standardise(stack)\n",
    "#stack = normalise_01(stack)\n",
    "print(stack.shape)"
   ]
  },
  {
   "cell_type": "code",
   "execution_count": 15,
   "id": "ae4277f1-3ae6-4e17-9d18-68fee68f5415",
   "metadata": {},
   "outputs": [
    {
     "data": {
      "text/plain": [
       "array([[ 0.03282434,  0.0821757 ,  0.19906704, ...,  1.2478746 ,\n",
       "         1.3488123 ,  0.16155283],\n",
       "       [-0.11542191, -0.11107186, -0.10113662, ...,  1.302332  ,\n",
       "         0.6741777 , -0.58520114],\n",
       "       [-0.13384156, -0.14953254, -0.09851743, ..., -0.695677  ,\n",
       "        -0.70213574, -0.7311331 ],\n",
       "       ...,\n",
       "       [ 1.1748178 ,  1.0482391 ,  1.2568712 , ..., -0.45148185,\n",
       "        -0.81766444, -1.153583  ],\n",
       "       [ 0.30429763,  0.29576856,  0.46161595, ..., -0.69365114,\n",
       "        -0.37664032, -0.9008267 ],\n",
       "       [-1.2278144 , -1.0968429 , -1.0126208 , ..., -0.39370507,\n",
       "        -0.58296525, -0.8273192 ]], dtype=float32)"
      ]
     },
     "execution_count": 15,
     "metadata": {},
     "output_type": "execute_result"
    }
   ],
   "source": [
    "stack[0,:,:,0]"
   ]
  },
  {
   "cell_type": "code",
   "execution_count": 16,
   "id": "6546d22b-5f00-4a41-8fb8-b56e903bba8f",
   "metadata": {},
   "outputs": [],
   "source": [
    "def Norma_Xpercentile(image_data, prct:int = 2, BGR2RGB=True):\n",
    "    a = np.ndarray(image_data.shape, dtype='float32')  \n",
    "    a[:,:,0] = (image_data[:,:,0] - np.nanpercentile(image_data[:,:,0],prct))/(np.nanpercentile(image_data[:,:,0],100-prct) - np.nanpercentile(image_data[:,:,0],prct))\n",
    "    a[:,:,1] = (image_data[:,:,1] - np.nanpercentile(image_data[:,:,1],prct))/(np.nanpercentile(image_data[:,:,1],100-prct) - np.nanpercentile(image_data[:,:,1],prct))\n",
    "    a[:,:,2] = (image_data[:,:,2] - np.nanpercentile(image_data[:,:,2],prct))/(np.nanpercentile(image_data[:,:,2],100-prct) - np.nanpercentile(image_data[:,:,2],prct))\n",
    "    if BGR2RGB: \n",
    "        a = cv2.cvtColor(a, cv2.COLOR_BGR2RGB)\n",
    "    return a"
   ]
  },
  {
   "cell_type": "code",
   "execution_count": 17,
   "id": "3ba88845-9dae-4112-92b7-cbdedbcc1fea",
   "metadata": {},
   "outputs": [
    {
     "name": "stderr",
     "output_type": "stream",
     "text": [
      "Clipping input data to the valid range for imshow with RGB data ([0..1] for floats or [0..255] for integers).\n"
     ]
    },
    {
     "data": {
      "text/plain": [
       "<matplotlib.image.AxesImage at 0x7f6d3f51c430>"
      ]
     },
     "execution_count": 17,
     "metadata": {},
     "output_type": "execute_result"
    },
    {
     "data": {
      "image/png": "[encoded data removed]",
      "text/plain": [
       "<Figure size 432x288 with 1 Axes>"
      ]
     },
     "metadata": {
      "needs_background": "light"
     },
     "output_type": "display_data"
    }
   ],
   "source": [
    "plt.imshow(Norma_Xpercentile(stack[0,:,:,]))"
   ]
  },
  {
   "cell_type": "markdown",
   "id": "444f3dfd-9ab4-404b-b15f-c75681125fdf",
   "metadata": {},
   "source": [
    "**Load the labels from SQLite and store it in numpy serie** "
   ]
  },
  {
   "cell_type": "code",
   "execution_count": 18,
   "id": "806491bd-d16c-422a-8c3d-86b87a7708f5",
   "metadata": {},
   "outputs": [
    {
     "data": {
      "text/html": [
       "<div>\n",
       "<style scoped>\n",
       "    .dataframe tbody tr th:only-of-type {\n",
       "        vertical-align: middle;\n",
       "    }\n",
       "\n",
       "    .dataframe tbody tr th {\n",
       "        vertical-align: top;\n",
       "    }\n",
       "\n",
       "    .dataframe thead th {\n",
       "        text-align: right;\n",
       "    }\n",
       "</style>\n",
       "<table border=\"1\" class=\"dataframe\">\n",
       "  <thead>\n",
       "    <tr style=\"text-align: right;\">\n",
       "      <th></th>\n",
       "      <th>photo_id</th>\n",
       "      <th>value</th>\n",
       "    </tr>\n",
       "  </thead>\n",
       "  <tbody>\n",
       "    <tr>\n",
       "      <th>0</th>\n",
       "      <td>1.0</td>\n",
       "      <td>27.246599</td>\n",
       "    </tr>\n",
       "    <tr>\n",
       "      <th>1</th>\n",
       "      <td>2.0</td>\n",
       "      <td>25.581902</td>\n",
       "    </tr>\n",
       "    <tr>\n",
       "      <th>2</th>\n",
       "      <td>3.0</td>\n",
       "      <td>26.108904</td>\n",
       "    </tr>\n",
       "    <tr>\n",
       "      <th>3</th>\n",
       "      <td>4.0</td>\n",
       "      <td>26.940680</td>\n",
       "    </tr>\n",
       "    <tr>\n",
       "      <th>4</th>\n",
       "      <td>5.0</td>\n",
       "      <td>25.817791</td>\n",
       "    </tr>\n",
       "  </tbody>\n",
       "</table>\n",
       "</div>"
      ],
      "text/plain": [
       "   photo_id      value\n",
       "0       1.0  27.246599\n",
       "1       2.0  25.581902\n",
       "2       3.0  26.108904\n",
       "3       4.0  26.940680\n",
       "4       5.0  25.817791"
      ]
     },
     "execution_count": 18,
     "metadata": {},
     "output_type": "execute_result"
    }
   ],
   "source": [
    "# Load the labels stored in CSV into a pandas DataFrame\n",
    "df_labels = pd.read_csv(os.path.join(label_path,\"ranking_p3_20220202_NoClouds.csv\"))\n",
    "df_labels.head()"
   ]
  },
  {
   "cell_type": "raw",
   "id": "6fe784d0-c246-4921-9437-96fe76b2ee2a",
   "metadata": {},
   "source": [
    "# Normalise the labels in the range [0-1] (Min-Max normalisation)\n",
    "df_labels['norm_value'] = (df_labels.loc[:,'value']-df_labels.loc[:,'value'].min())/(df_labels.loc[:,'value'].max()-df_labels.loc[:,'value'].min())\n",
    "print(df_labels.head())\n",
    "print('Min = %s'%round(df_labels.loc[:,'norm_value'].min(),5))\n",
    "print('Max = %s'%round(df_labels.loc[:,'norm_value'].max(),5))"
   ]
  },
  {
   "cell_type": "raw",
   "id": "a86b507a-80ae-4f2b-b6aa-cd5b7b95c18f",
   "metadata": {},
   "source": [
    "# Standardise the labels (Mean=0 Std=1)\n",
    "df_labels['norm_value'] = (df_labels.loc[:,'value']-df_labels.loc[:,'value'].mean())/(df_labels.loc[:,'value'].std())\n",
    "print(df_labels.head())\n",
    "print('Mean = %s'%round(df_labels.loc[:,'norm_value'].mean(),5))\n",
    "print('Std = %s'%round(df_labels.loc[:,'norm_value'].std(),5))"
   ]
  },
  {
   "cell_type": "raw",
   "id": "2aa67105-12a5-456c-9cb9-1b1f320a3a1a",
   "metadata": {},
   "source": [
    "# Extract the values of perception score and covert it to a 1-d array \n",
    "scores = df_labels.loc[:,'norm_value'].values"
   ]
  },
  {
   "cell_type": "code",
   "execution_count": 19,
   "id": "259256e5-8f5a-4811-97be-11cc07cd8778",
   "metadata": {},
   "outputs": [],
   "source": [
    "# Extract the values of perception score and covert it to a 1-d array \n",
    "scores = df_labels.loc[:,'value'].values"
   ]
  },
  {
   "cell_type": "code",
   "execution_count": 20,
   "id": "2f1e8407-d640-4ea3-a046-48b26e433764",
   "metadata": {},
   "outputs": [
    {
     "name": "stdout",
     "output_type": "stream",
     "text": [
      "(2005, 1)\n",
      "float64\n",
      "[[27.24659875]\n",
      " [25.58190216]\n",
      " [26.10890421]\n",
      " ...\n",
      " [25.14122653]\n",
      " [27.26761963]\n",
      " [26.21339917]]\n"
     ]
    }
   ],
   "source": [
    "# Now we need to reshape the 1-d array to a 2-d array \n",
    "scores = scores.reshape(scores.size,-1)\n",
    "\n",
    "# Check the shape and datatype of reference data\n",
    "print(scores.shape)\n",
    "print(scores.dtype)\n",
    "print(scores)"
   ]
  },
  {
   "cell_type": "code",
   "execution_count": 21,
   "id": "0d7173c5",
   "metadata": {},
   "outputs": [
    {
     "name": "stdout",
     "output_type": "stream",
     "text": [
      "(2005, 128, 128, 4)\n",
      "(2005, 1)\n"
     ]
    }
   ],
   "source": [
    "# Before splitting the training and test dataset, let's check again the shape of x and y. \n",
    "print(stack.shape)\n",
    "print(scores.shape)"
   ]
  },
  {
   "cell_type": "code",
   "execution_count": 22,
   "id": "bf17496b-f1d6-4ac9-b3c6-37329b565abf",
   "metadata": {},
   "outputs": [
    {
     "name": "stdout",
     "output_type": "stream",
     "text": [
      "Labels and images ID match perfectly\n"
     ]
    }
   ],
   "source": [
    "# Check if labels and images ID match\n",
    "set_images = set([int(os.path.splitext(x)[0].split(\"_\")[-1]) for x in tile_list])\n",
    "set_label = set(df_labels.loc[:,'photo_id'].values.tolist())\n",
    "missing_label = list(sorted(set_images - set_label))\n",
    "missing_image = list(sorted(set_label - set_images))\n",
    "if missing_label or missing_image: \n",
    "    print('Label(s) ID missing:', missing_label)\n",
    "    print('Image(s) ID missing:', missing_image)\n",
    "else: \n",
    "    print('Labels and images ID match perfectly') "
   ]
  },
  {
   "cell_type": "code",
   "execution_count": 23,
   "id": "82ebb05e",
   "metadata": {},
   "outputs": [
    {
     "data": {
      "image/png": "[encoded data removed]",
      "text/plain": [
       "<Figure size 576x288 with 1 Axes>"
      ]
     },
     "metadata": {
      "needs_background": "light"
     },
     "output_type": "display_data"
    }
   ],
   "source": [
    "# print the distribution of target variables (y)\n",
    "fig, axs = plt.subplots(1, 1,figsize =(8, 4), tight_layout = True)\n",
    "axs.hist(scores, bins = 30, edgecolor='white', linewidth=0.5)\n",
    "# Show plot\n",
    "plt.show()"
   ]
  },
  {
   "cell_type": "markdown",
   "id": "d03719b4",
   "metadata": {},
   "source": [
    "### 1.2 Splitting the input data"
   ]
  },
  {
   "cell_type": "markdown",
   "id": "b894792b",
   "metadata": {},
   "source": [
    "**Now, we split the input data into training+validation and test datasets.**\n",
    "\n",
    "the proportion of training+validation and test follows the rule of thumb, 70% vs 30%."
   ]
  },
  {
   "cell_type": "code",
   "execution_count": 24,
   "id": "d6ee699c",
   "metadata": {},
   "outputs": [
    {
     "name": "stdout",
     "output_type": "stream",
     "text": [
      "(1804, 128, 128, 4)\n",
      "(1804, 1)\n",
      "(201, 128, 128, 4)\n",
      "(201, 1)\n"
     ]
    }
   ],
   "source": [
    "# Split the inputs. Note that variable 'stack' is the X (imagery), and variable 'score' is the Y (labels).  \n",
    "x_train, x_val, y_train, y_val = train_test_split(\n",
    "    stack, scores, test_size = 0.1, random_state = 65) # specify the random state to ensure replicable output across multiple function calls.\n",
    "\n",
    "# Check the shape of each sub-dataset \n",
    "print(x_train.shape)\n",
    "print(y_train.shape)\n",
    "print(x_val.shape)\n",
    "print(y_val.shape)"
   ]
  },
  {
   "cell_type": "code",
   "execution_count": 25,
   "id": "e76beb75-bf3d-43f2-b975-02c73895e8d9",
   "metadata": {},
   "outputs": [
    {
     "data": {
      "image/png": "[encoded data removed]",
      "text/plain": [
       "<Figure size 576x288 with 1 Axes>"
      ]
     },
     "metadata": {
      "needs_background": "light"
     },
     "output_type": "display_data"
    }
   ],
   "source": [
    "# print the distribution of target variables (y) in training and validation sets\n",
    "fig, axs = plt.subplots(1, 1,figsize =(8, 4), tight_layout = True)\n",
    "axs.hist(y_train, bins = 30, edgecolor='white', linewidth=0.5)\n",
    "axs.hist(y_val, bins = 30, edgecolor='white', linewidth=0.5)\n",
    "# Show plot\n",
    "plt.show()"
   ]
  },
  {
   "cell_type": "markdown",
   "id": "8055e220",
   "metadata": {},
   "source": [
    "## 2. Deep CNN-based Regression Model \n",
    "\n",
    "In this part, we build a VGG-like model to predict the deprivation degree.\n",
    "\n",
    "The CNN model has 4 convolution blocks and 3 fully connected layers. The details were presented below"
   ]
  },
  {
   "cell_type": "markdown",
   "id": "f2c9c146",
   "metadata": {},
   "source": [
    "### 2.1 Models Architecture Definition"
   ]
  },
  {
   "cell_type": "markdown",
   "id": "f9951ea8-8f9e-4b7e-8e04-dd287c03d690",
   "metadata": {
    "tags": []
   },
   "source": [
    "#### **Coefficient of determination**"
   ]
  },
  {
   "cell_type": "code",
   "execution_count": 26,
   "id": "8d6aa3ef-8793-4194-911c-9201ce2990f9",
   "metadata": {},
   "outputs": [],
   "source": [
    "# Specify the R2 calculation formula to use as an assessment metric. \n",
    "def coeff_determination(y_true, y_pred):\n",
    "    from keras import backend as K\n",
    "    SS_res =  K.sum(K.square( y_true-y_pred ))\n",
    "    SS_tot = K.sum(K.square( y_true - K.mean(y_true) ) )\n",
    "    return ( 1 - SS_res/(SS_tot + K.epsilon()) )"
   ]
  },
  {
   "cell_type": "markdown",
   "id": "b857e957-8696-4880-9078-8d0fc0d4673d",
   "metadata": {
    "tags": []
   },
   "source": [
    "#### **Data augmentation definition**"
   ]
  },
  {
   "cell_type": "code",
   "execution_count": 44,
   "id": "9d259ee0-e468-4623-8022-4c3b4f01ccc3",
   "metadata": {},
   "outputs": [],
   "source": [
    "# Define data augmentation to be included at the top of the sequential model \n",
    "data_augmentation = tf.keras.Sequential([\n",
    "  layers.RandomFlip(\"vertical\"),\n",
    "  layers.RandomRotation(0.2, fill_mode='reflect'),\n",
    "  layers.RandomTranslation(height_factor=0.05, width_factor=0.05, fill_mode='reflect'),\n",
    "])"
   ]
  },
  {
   "cell_type": "markdown",
   "id": "f1416b79-c502-4df0-80f9-443b6ea30fe0",
   "metadata": {
    "tags": []
   },
   "source": [
    "#### **VGG-like model**"
   ]
  },
  {
   "cell_type": "code",
   "execution_count": 27,
   "id": "2dffc9f3-4384-4c5d-a122-6905261db20a",
   "metadata": {},
   "outputs": [],
   "source": [
    "# Input shape \n",
    "#input_shape = (256, 256, 3)\n",
    "input_shape = (128, 128, 4)\n",
    "#input_shape = (64, 64, 3)"
   ]
  },
  {
   "cell_type": "code",
   "execution_count": 54,
   "id": "4968f2b7-aac0-466a-b213-777a456f1f83",
   "metadata": {
    "tags": []
   },
   "outputs": [],
   "source": [
    "## VGG-like (4 blocks) regression model with hyperparameter tuning\n",
    "\n",
    "def VGG_model(hp):\n",
    "    model = Sequential()\n",
    "    \n",
    "    # Data augmentation\n",
    "    model.add(data_augmentation)\n",
    "    \n",
    "    # block 1 \n",
    "    hp_filters_blk1 = hp.Choice(\"filters_blk1\", [32,64,128]) #Hyperparameter tuning\n",
    "    model.add(Conv2D(hp_filters_blk1, (3, 3), padding='same', name='block1_conv1', input_shape=input_shape)) #block1_conv1\n",
    "    model.add(BatchNormalization(axis=-1, name='block1_bn1'))\n",
    "    model.add(Activation('relu'))\n",
    "    model.add(Conv2D(hp_filters_blk1, (3, 3), padding='same', name='block1_conv2')) #block1_conv2 \n",
    "    model.add(BatchNormalization(axis=-1, name='block1_bn2'))\n",
    "    model.add(Activation('relu'))\n",
    "    model.add(MaxPooling2D(pool_size=(2, 2), name='block1_pool')) #block1_pool\n",
    "    \n",
    "    # block 2 \n",
    "    hp_filters_blk2 = hp.Choice(\"filters_blk2\", [32,64,128]) #Hyperparameter tuning\n",
    "    model.add(Conv2D(hp_filters_blk2, (3, 3), padding='same', name='block2_conv1')) #block2_conv1\n",
    "    model.add(BatchNormalization(axis=-1, name='block2_bn1'))\n",
    "    model.add(Activation('relu'))\n",
    "    model.add(Conv2D(hp_filters_blk2, (3, 3), padding='same', name='block2_conv2')) #block2_conv2\n",
    "    model.add(BatchNormalization(axis=-1, name='block2_bn2'))\n",
    "    model.add(Activation('relu'))\n",
    "    model.add(MaxPooling2D(pool_size=(2, 2), name='block2_pool')) #block2_pool\n",
    "    \n",
    "    # block 3 \n",
    "    hp_filters_blk3 = hp.Choice(\"filters_blk3\", [128,256]) #Hyperparameter tuning\n",
    "    model.add(Conv2D(hp_filters_blk3, (3, 3), padding='same', name='block3_conv1')) #block3_conv1\n",
    "    model.add(BatchNormalization(axis=-1, name = 'block3_bn1'))\n",
    "    model.add(Activation('relu'))\n",
    "    model.add(Conv2D(hp_filters_blk3, (3, 3), padding='same', name='block3_conv2')) #block3_conv2\n",
    "    model.add(BatchNormalization(axis=-1, name='block3_bn2'))\n",
    "    model.add(Activation('relu'))\n",
    "    model.add(Conv2D(hp_filters_blk3, (3, 3), padding='same', name='block3_conv3')) #block3_conv3\n",
    "    model.add(BatchNormalization(axis=-1, name='block3_bn3'))\n",
    "    model.add(Activation('relu'))\n",
    "    model.add(MaxPooling2D(pool_size=(2, 2), name='block3_pool')) #block3_pool\n",
    "    \n",
    "    # block 4 \n",
    "    hp_filters_blk4 = hp.Choice(\"filters_blk4\", [128,256,512]) #Hyperparameter tuning\n",
    "    model.add(Conv2D(hp_filters_blk4, (3, 3), padding='same', name='block4_conv1')) #block4_conv1\n",
    "    model.add(BatchNormalization(axis=-1, name='block4_bn1'))\n",
    "    model.add(Activation('relu'))\n",
    "    model.add(Conv2D(hp_filters_blk4, (3, 3), padding='same', name='block4_conv2')) #block4_conv2\n",
    "    model.add(BatchNormalization(axis=-1, name='block4_bn2'))\n",
    "    model.add(Activation('relu'))\n",
    "    model.add(Conv2D(hp_filters_blk4, (3, 3), padding='same', name='block4_conv3')) #block4_conv3\n",
    "    model.add(BatchNormalization(axis=-1, name='block4_bn3'))\n",
    "    model.add(Activation('relu'))\n",
    "    model.add(MaxPooling2D(pool_size=(2, 2), name='block4_pool')) #block4_pool\n",
    "\n",
    "    # Now to configure the fully conneceted layers \n",
    "    \n",
    "    # FC1\n",
    "    model.add(Flatten())\n",
    "    hp_filters_FC1 = hp.Choice(\"filters_FC1\", [128,256,512]) #Hyperparameter tuning\n",
    "    model.add(Dense(hp_filters_FC1, name = 'fc1'))\n",
    "    model.add(BatchNormalization(axis=-1, name = 'fc1_bn1'))\n",
    "    model.add(Activation('relu'))\n",
    "    model.add(Dropout(0.1, name = 'fc1_drop1', seed=3)) \n",
    "    \n",
    "    # FC2\n",
    "    hp_filters_FC2 = hp.Choice(\"filters_FC1\", [128,256,512]) #Hyperparameter tuning\n",
    "    model.add(Dense(hp_filters_FC2, name = 'fc2'))\n",
    "    model.add(BatchNormalization(axis=-1, name = 'fc2_bn1'))\n",
    "    model.add(Activation('relu'))\n",
    "    model.add(Dropout(0.1, name = 'fc2_drop1', seed=3))\n",
    "    \n",
    "    # Regression layer \n",
    "    model.add(Dense(1, activation = 'linear', name = 'regression'))   \n",
    "    \n",
    "    # Optimizer with Keras Tuner on learning rate    \n",
    "    hp_lr = hp.Choice(\"lr\", [1e-2,1e-3,1e-4]) #Hyperparameter tuning\n",
    "    opt = Adam(learning_rate=hp_lr)\n",
    "    \n",
    "    # Compile the model with LOSS, Optimizer, metrics\n",
    "    model.compile(loss=\"mean_squared_error\", optimizer=opt, metrics=['mean_absolute_error','RootMeanSquaredError',coeff_determination]) \n",
    "   \n",
    "    return model"
   ]
  },
  {
   "cell_type": "code",
   "execution_count": 55,
   "id": "dc2b5444-6d53-475a-8c30-cffc5fd6aaaf",
   "metadata": {},
   "outputs": [
    {
     "data": {
      "text/plain": [
       "<keras.engine.sequential.Sequential at 0x7f6b787f5f10>"
      ]
     },
     "execution_count": 55,
     "metadata": {},
     "output_type": "execute_result"
    }
   ],
   "source": [
    "# Check if the Hyperparameter model works fine\n",
    "VGG_model(kt.HyperParameters())"
   ]
  },
  {
   "cell_type": "code",
   "execution_count": 57,
   "id": "359b566c-40ca-4b47-b7dc-eebbdcbd26fd",
   "metadata": {},
   "outputs": [],
   "source": [
    "# Keras Tuner with RandomSearch\n",
    "tuner = kt.RandomSearch(\n",
    "    hypermodel=VGG_model,\n",
    "    #objective=kt.Objective(\"val_loss\", direction=\"min\"),\n",
    "    objective=kt.Objective(\"val_coeff_determination\", direction=\"max\"),\n",
    "    max_trials=2, #Maximum number of HP combination to test\n",
    "    executions_per_trial=2, #Number of execution of the same HP combination\n",
    "    overwrite=True,\n",
    "    directory=os.path.join(model_path,\"Tuner\"),\n",
    "    project_name=\"Partimap\",\n",
    ")"
   ]
  },
  {
   "cell_type": "raw",
   "id": "2c7897b8-c534-4f8f-a460-70d6118cc61d",
   "metadata": {},
   "source": [
    "# Keras Tuner with Hyperband\n",
    "tuner = kt.Hyperband(\n",
    "    hypermodel=VGG_model,\n",
    "    objective=\"val_RootMeanSquaredError\",\n",
    "    max_epochs=50,\n",
    "    max_trials=20,\n",
    "    executions_per_trial=2,\n",
    "    overwrite=True,\n",
    "    directory=os.path.join(model_path,\"Tuner\"),\n",
    "    project_name=\"Partimap\",\n",
    ")"
   ]
  },
  {
   "cell_type": "code",
   "execution_count": 58,
   "id": "13f0d346-46ea-4f1e-8899-c712a678575d",
   "metadata": {},
   "outputs": [
    {
     "name": "stdout",
     "output_type": "stream",
     "text": [
      "Search space summary\n",
      "Default search space size: 6\n",
      "filters_blk1 (Choice)\n",
      "{'default': 32, 'conditions': [], 'values': [32, 64, 128], 'ordered': True}\n",
      "filters_blk2 (Choice)\n",
      "{'default': 32, 'conditions': [], 'values': [32, 64, 128], 'ordered': True}\n",
      "filters_blk3 (Choice)\n",
      "{'default': 128, 'conditions': [], 'values': [128, 256], 'ordered': True}\n",
      "filters_blk4 (Choice)\n",
      "{'default': 128, 'conditions': [], 'values': [128, 256, 512], 'ordered': True}\n",
      "filters_FC1 (Choice)\n",
      "{'default': 128, 'conditions': [], 'values': [128, 256, 512], 'ordered': True}\n",
      "lr (Choice)\n",
      "{'default': 0.01, 'conditions': [], 'values': [0.01, 0.001, 0.0001], 'ordered': True}\n"
     ]
    }
   ],
   "source": [
    "# Search space summary\n",
    "tuner.search_space_summary()"
   ]
  },
  {
   "cell_type": "raw",
   "id": "6c054759-d0a9-4bd8-ad4e-d7e9dcbb450a",
   "metadata": {},
   "source": [
    "# Visualize the augmented data for an original image (in top left corner)\n",
    "img_idx = 154\n",
    "plt.rcParams[\"figure.facecolor\"] = 'w'\n",
    "pic = datagen.flow(np.expand_dims(x_train[img_idx], axis=0), batch_size =1, seed=3) \n",
    "plt.figure(figsize=(10, 10))\n",
    "for i in range(9):\n",
    "    if i==0:\n",
    "        ax = plt.subplot(3, 3, i + 1)\n",
    "        plt.imshow(Norma_Xpercentile(x_train[img_idx]))\n",
    "        plt.axis(\"off\")\n",
    "        plt.title(\"Original image\")\n",
    "    else:\n",
    "        ax = plt.subplot(3, 3, i + 1)\n",
    "        batch = pic.next()\n",
    "        plt.imshow(Norma_Xpercentile(batch[0]))\n",
    "        plt.axis(\"off\")\n",
    "        plt.title(\"Augmented image\")\n",
    "plt.savefig(os.path.join(model_path,'Data_augmentation_A.png'), dpi=300, bbox_inches='tight')"
   ]
  },
  {
   "cell_type": "markdown",
   "id": "cd9b80f5",
   "metadata": {
    "tags": []
   },
   "source": [
    "### 2.3 Tune model's hyperparameters"
   ]
  },
  {
   "cell_type": "raw",
   "id": "6a83a414-b83c-41a9-a6ca-4b5427c8543b",
   "metadata": {},
   "source": [
    "# Using checkpoint callback fucntion to save the weights that yield the best result on validation dataset. \n",
    "checkpoint_filepath = os.path.join(output_path,'model','VGG_mae_best_performed_model.hdf5')\n",
    "checkpoint = ModelCheckpoint(checkpoint_filepath, monitor='val_mean_absolute_error', verbose=1, save_best_only=True, mode='min')"
   ]
  },
  {
   "cell_type": "raw",
   "id": "8ba0261b-1bfe-49ac-84ac-01db41d324a4",
   "metadata": {},
   "source": [
    "# Using 'Reduce LR on Plateau' function to let the model take smaller steps when the loss value hold on, and eventually maybe found a better optima.\n",
    "reduce = ReduceLROnPlateau(monitor='val_loss', factor=0.3, patience=5, verbose=1, mode='auto', cooldown=0, min_lr=0)"
   ]
  },
  {
   "cell_type": "code",
   "execution_count": 32,
   "id": "ef62cb29-3a89-4f88-b7f2-b3b4c9f9b6e6",
   "metadata": {},
   "outputs": [],
   "source": [
    "# Using \"Early stopping\" function to stop the training when \n",
    "early = EarlyStopping(monitor=\"val_loss\",mode=\"min\",patience=20) # probably needs to be more patient, but kaggle time is limited"
   ]
  },
  {
   "cell_type": "code",
   "execution_count": 59,
   "id": "1d76dc35-84d9-4d2b-a17d-bac1963bc3b8",
   "metadata": {},
   "outputs": [
    {
     "name": "stdout",
     "output_type": "stream",
     "text": [
      "Trial 2 Complete [00h 01m 12s]\n",
      "val_coeff_determination: -144.93885803222656\n",
      "\n",
      "Best val_coeff_determination So Far: -144.93885803222656\n",
      "Total elapsed time: 00h 02m 22s\n",
      "INFO:tensorflow:Oracle triggered exit\n"
     ]
    }
   ],
   "source": [
    "# Define batch size and number of epoch to train\n",
    "BSIZE = 64\n",
    "NB_EPOCHS = 3\n",
    "# Perform the HP search\n",
    "tuner.search(datagen.flow(x_train, y_train, batch_size=BSIZE, shuffle=False, seed=3), \n",
    "             epochs=NB_EPOCHS, \n",
    "             validation_data=(x_val,y_val),\n",
    "             callbacks=[early])"
   ]
  },
  {
   "cell_type": "code",
   "execution_count": 60,
   "id": "77c7349e-e7d7-4465-92e7-be6676106828",
   "metadata": {
    "scrolled": true,
    "tags": []
   },
   "outputs": [
    {
     "name": "stdout",
     "output_type": "stream",
     "text": [
      "Results summary\n",
      "Results in /home/partimap/PARTIMAP_processing/output/model/Tuner/Partimap\n",
      "Showing 10 best trials\n",
      "Objective(name='val_coeff_determination', direction='max')\n",
      "Trial summary\n",
      "Hyperparameters:\n",
      "filters_blk1: 32\n",
      "filters_blk2: 64\n",
      "filters_blk3: 128\n",
      "filters_blk4: 512\n",
      "filters_FC1: 128\n",
      "lr: 0.001\n",
      "Score: -144.93885803222656\n",
      "Trial summary\n",
      "Hyperparameters:\n",
      "filters_blk1: 32\n",
      "filters_blk2: 32\n",
      "filters_blk3: 256\n",
      "filters_blk4: 512\n",
      "filters_FC1: 256\n",
      "lr: 0.01\n",
      "Score: -74800.6640625\n"
     ]
    }
   ],
   "source": [
    "# Summary of the HP tuning\n",
    "tuner.results_summary()"
   ]
  },
  {
   "cell_type": "code",
   "execution_count": 65,
   "id": "318a20b1-9c89-40ad-9a69-7cccfa5ae75f",
   "metadata": {},
   "outputs": [
    {
     "name": "stdout",
     "output_type": "stream",
     "text": [
      "WARNING:tensorflow:Detecting that an object or model or tf.train.Checkpoint is being deleted with unrestored values. See the following logs for the specific values in question. To silence these warnings, use `status.expect_partial()`. See https://www.tensorflow.org/api_docs/python/tf/train/Checkpoint#restorefor details about the status object returned by the restore function.\n",
      "WARNING:tensorflow:Value in checkpoint could not be found in the restored object: (root).layer_with_weights-0.kernel\n",
      "WARNING:tensorflow:Value in checkpoint could not be found in the restored object: (root).layer_with_weights-0.bias\n",
      "WARNING:tensorflow:Value in checkpoint could not be found in the restored object: (root).layer_with_weights-1.gamma\n",
      "WARNING:tensorflow:Value in checkpoint could not be found in the restored object: (root).layer_with_weights-1.beta\n",
      "WARNING:tensorflow:Value in checkpoint could not be found in the restored object: (root).layer_with_weights-1.moving_mean\n",
      "WARNING:tensorflow:Value in checkpoint could not be found in the restored object: (root).layer_with_weights-1.moving_variance\n",
      "WARNING:tensorflow:Value in checkpoint could not be found in the restored object: (root).layer_with_weights-2.kernel\n",
      "WARNING:tensorflow:Value in checkpoint could not be found in the restored object: (root).layer_with_weights-2.bias\n",
      "WARNING:tensorflow:Value in checkpoint could not be found in the restored object: (root).layer_with_weights-3.gamma\n",
      "WARNING:tensorflow:Value in checkpoint could not be found in the restored object: (root).layer_with_weights-3.beta\n",
      "WARNING:tensorflow:Value in checkpoint could not be found in the restored object: (root).layer_with_weights-3.moving_mean\n",
      "WARNING:tensorflow:Value in checkpoint could not be found in the restored object: (root).layer_with_weights-3.moving_variance\n",
      "WARNING:tensorflow:Value in checkpoint could not be found in the restored object: (root).layer_with_weights-4.kernel\n",
      "WARNING:tensorflow:Value in checkpoint could not be found in the restored object: (root).layer_with_weights-4.bias\n",
      "WARNING:tensorflow:Value in checkpoint could not be found in the restored object: (root).layer_with_weights-5.gamma\n",
      "WARNING:tensorflow:Value in checkpoint could not be found in the restored object: (root).layer_with_weights-5.beta\n",
      "WARNING:tensorflow:Value in checkpoint could not be found in the restored object: (root).layer_with_weights-5.moving_mean\n",
      "WARNING:tensorflow:Value in checkpoint could not be found in the restored object: (root).layer_with_weights-5.moving_variance\n",
      "WARNING:tensorflow:Value in checkpoint could not be found in the restored object: (root).layer_with_weights-6.kernel\n",
      "WARNING:tensorflow:Value in checkpoint could not be found in the restored object: (root).layer_with_weights-6.bias\n",
      "WARNING:tensorflow:Value in checkpoint could not be found in the restored object: (root).layer_with_weights-7.gamma\n",
      "WARNING:tensorflow:Value in checkpoint could not be found in the restored object: (root).layer_with_weights-7.beta\n",
      "WARNING:tensorflow:Value in checkpoint could not be found in the restored object: (root).layer_with_weights-7.moving_mean\n",
      "WARNING:tensorflow:Value in checkpoint could not be found in the restored object: (root).layer_with_weights-7.moving_variance\n",
      "WARNING:tensorflow:Value in checkpoint could not be found in the restored object: (root).layer_with_weights-8.kernel\n",
      "WARNING:tensorflow:Value in checkpoint could not be found in the restored object: (root).layer_with_weights-8.bias\n",
      "WARNING:tensorflow:Value in checkpoint could not be found in the restored object: (root).layer_with_weights-9.gamma\n",
      "WARNING:tensorflow:Value in checkpoint could not be found in the restored object: (root).layer_with_weights-9.beta\n",
      "WARNING:tensorflow:Value in checkpoint could not be found in the restored object: (root).layer_with_weights-9.moving_mean\n",
      "WARNING:tensorflow:Value in checkpoint could not be found in the restored object: (root).layer_with_weights-9.moving_variance\n",
      "WARNING:tensorflow:Value in checkpoint could not be found in the restored object: (root).layer_with_weights-10.kernel\n",
      "WARNING:tensorflow:Value in checkpoint could not be found in the restored object: (root).layer_with_weights-10.bias\n",
      "WARNING:tensorflow:Value in checkpoint could not be found in the restored object: (root).layer_with_weights-11.gamma\n",
      "WARNING:tensorflow:Value in checkpoint could not be found in the restored object: (root).layer_with_weights-11.beta\n",
      "WARNING:tensorflow:Value in checkpoint could not be found in the restored object: (root).layer_with_weights-11.moving_mean\n",
      "WARNING:tensorflow:Value in checkpoint could not be found in the restored object: (root).layer_with_weights-11.moving_variance\n",
      "WARNING:tensorflow:Value in checkpoint could not be found in the restored object: (root).layer_with_weights-12.kernel\n",
      "WARNING:tensorflow:Value in checkpoint could not be found in the restored object: (root).layer_with_weights-12.bias\n",
      "WARNING:tensorflow:Value in checkpoint could not be found in the restored object: (root).layer_with_weights-13.gamma\n",
      "WARNING:tensorflow:Value in checkpoint could not be found in the restored object: (root).layer_with_weights-13.beta\n",
      "WARNING:tensorflow:Value in checkpoint could not be found in the restored object: (root).layer_with_weights-13.moving_mean\n",
      "WARNING:tensorflow:Value in checkpoint could not be found in the restored object: (root).layer_with_weights-13.moving_variance\n",
      "WARNING:tensorflow:Value in checkpoint could not be found in the restored object: (root).layer_with_weights-14.kernel\n",
      "WARNING:tensorflow:Value in checkpoint could not be found in the restored object: (root).layer_with_weights-14.bias\n",
      "WARNING:tensorflow:Value in checkpoint could not be found in the restored object: (root).layer_with_weights-15.gamma\n",
      "WARNING:tensorflow:Value in checkpoint could not be found in the restored object: (root).layer_with_weights-15.beta\n",
      "WARNING:tensorflow:Value in checkpoint could not be found in the restored object: (root).layer_with_weights-15.moving_mean\n",
      "WARNING:tensorflow:Value in checkpoint could not be found in the restored object: (root).layer_with_weights-15.moving_variance\n",
      "WARNING:tensorflow:Value in checkpoint could not be found in the restored object: (root).layer_with_weights-16.kernel\n",
      "WARNING:tensorflow:Value in checkpoint could not be found in the restored object: (root).layer_with_weights-16.bias\n",
      "WARNING:tensorflow:Value in checkpoint could not be found in the restored object: (root).layer_with_weights-17.gamma\n",
      "WARNING:tensorflow:Value in checkpoint could not be found in the restored object: (root).layer_with_weights-17.beta\n",
      "WARNING:tensorflow:Value in checkpoint could not be found in the restored object: (root).layer_with_weights-17.moving_mean\n",
      "WARNING:tensorflow:Value in checkpoint could not be found in the restored object: (root).layer_with_weights-17.moving_variance\n",
      "WARNING:tensorflow:Value in checkpoint could not be found in the restored object: (root).layer_with_weights-18.kernel\n",
      "WARNING:tensorflow:Value in checkpoint could not be found in the restored object: (root).layer_with_weights-18.bias\n",
      "WARNING:tensorflow:Value in checkpoint could not be found in the restored object: (root).layer_with_weights-19.gamma\n",
      "WARNING:tensorflow:Value in checkpoint could not be found in the restored object: (root).layer_with_weights-19.beta\n",
      "WARNING:tensorflow:Value in checkpoint could not be found in the restored object: (root).layer_with_weights-19.moving_mean\n",
      "WARNING:tensorflow:Value in checkpoint could not be found in the restored object: (root).layer_with_weights-19.moving_variance\n",
      "WARNING:tensorflow:Value in checkpoint could not be found in the restored object: (root).layer_with_weights-20.kernel\n",
      "WARNING:tensorflow:Value in checkpoint could not be found in the restored object: (root).layer_with_weights-20.bias\n",
      "WARNING:tensorflow:Value in checkpoint could not be found in the restored object: (root).layer_with_weights-21.gamma\n",
      "WARNING:tensorflow:Value in checkpoint could not be found in the restored object: (root).layer_with_weights-21.beta\n",
      "WARNING:tensorflow:Value in checkpoint could not be found in the restored object: (root).layer_with_weights-21.moving_mean\n",
      "WARNING:tensorflow:Value in checkpoint could not be found in the restored object: (root).layer_with_weights-21.moving_variance\n",
      "WARNING:tensorflow:Value in checkpoint could not be found in the restored object: (root).layer_with_weights-22.kernel\n",
      "WARNING:tensorflow:Value in checkpoint could not be found in the restored object: (root).layer_with_weights-22.bias\n",
      "WARNING:tensorflow:Value in checkpoint could not be found in the restored object: (root).layer_with_weights-23.gamma\n",
      "WARNING:tensorflow:Value in checkpoint could not be found in the restored object: (root).layer_with_weights-23.beta\n",
      "WARNING:tensorflow:Value in checkpoint could not be found in the restored object: (root).layer_with_weights-23.moving_mean\n",
      "WARNING:tensorflow:Value in checkpoint could not be found in the restored object: (root).layer_with_weights-23.moving_variance\n",
      "WARNING:tensorflow:Value in checkpoint could not be found in the restored object: (root).layer_with_weights-24.kernel\n",
      "WARNING:tensorflow:Value in checkpoint could not be found in the restored object: (root).layer_with_weights-24.bias\n",
      "WARNING:tensorflow:Value in checkpoint could not be found in the restored object: (root).optimizer.iter\n",
      "WARNING:tensorflow:Value in checkpoint could not be found in the restored object: (root).optimizer.beta_1\n",
      "WARNING:tensorflow:Value in checkpoint could not be found in the restored object: (root).optimizer.beta_2\n",
      "WARNING:tensorflow:Value in checkpoint could not be found in the restored object: (root).optimizer.decay\n",
      "WARNING:tensorflow:Value in checkpoint could not be found in the restored object: (root).optimizer.learning_rate\n",
      "WARNING:tensorflow:Value in checkpoint could not be found in the restored object: (root).optimizer's state 'm' for (root).layer_with_weights-0.kernel\n",
      "WARNING:tensorflow:Value in checkpoint could not be found in the restored object: (root).optimizer's state 'm' for (root).layer_with_weights-0.bias\n",
      "WARNING:tensorflow:Value in checkpoint could not be found in the restored object: (root).optimizer's state 'm' for (root).layer_with_weights-1.gamma\n",
      "WARNING:tensorflow:Value in checkpoint could not be found in the restored object: (root).optimizer's state 'm' for (root).layer_with_weights-1.beta\n",
      "WARNING:tensorflow:Value in checkpoint could not be found in the restored object: (root).optimizer's state 'm' for (root).layer_with_weights-2.kernel\n",
      "WARNING:tensorflow:Value in checkpoint could not be found in the restored object: (root).optimizer's state 'm' for (root).layer_with_weights-2.bias\n",
      "WARNING:tensorflow:Value in checkpoint could not be found in the restored object: (root).optimizer's state 'm' for (root).layer_with_weights-3.gamma\n",
      "WARNING:tensorflow:Value in checkpoint could not be found in the restored object: (root).optimizer's state 'm' for (root).layer_with_weights-3.beta\n",
      "WARNING:tensorflow:Value in checkpoint could not be found in the restored object: (root).optimizer's state 'm' for (root).layer_with_weights-4.kernel\n",
      "WARNING:tensorflow:Value in checkpoint could not be found in the restored object: (root).optimizer's state 'm' for (root).layer_with_weights-4.bias\n",
      "WARNING:tensorflow:Value in checkpoint could not be found in the restored object: (root).optimizer's state 'm' for (root).layer_with_weights-5.gamma\n",
      "WARNING:tensorflow:Value in checkpoint could not be found in the restored object: (root).optimizer's state 'm' for (root).layer_with_weights-5.beta\n",
      "WARNING:tensorflow:Value in checkpoint could not be found in the restored object: (root).optimizer's state 'm' for (root).layer_with_weights-6.kernel\n",
      "WARNING:tensorflow:Value in checkpoint could not be found in the restored object: (root).optimizer's state 'm' for (root).layer_with_weights-6.bias\n",
      "WARNING:tensorflow:Value in checkpoint could not be found in the restored object: (root).optimizer's state 'm' for (root).layer_with_weights-7.gamma\n",
      "WARNING:tensorflow:Value in checkpoint could not be found in the restored object: (root).optimizer's state 'm' for (root).layer_with_weights-7.beta\n",
      "WARNING:tensorflow:Value in checkpoint could not be found in the restored object: (root).optimizer's state 'm' for (root).layer_with_weights-8.kernel\n",
      "WARNING:tensorflow:Value in checkpoint could not be found in the restored object: (root).optimizer's state 'm' for (root).layer_with_weights-8.bias\n",
      "WARNING:tensorflow:Value in checkpoint could not be found in the restored object: (root).optimizer's state 'm' for (root).layer_with_weights-9.gamma\n",
      "WARNING:tensorflow:Value in checkpoint could not be found in the restored object: (root).optimizer's state 'm' for (root).layer_with_weights-9.beta\n",
      "WARNING:tensorflow:Value in checkpoint could not be found in the restored object: (root).optimizer's state 'm' for (root).layer_with_weights-10.kernel\n",
      "WARNING:tensorflow:Value in checkpoint could not be found in the restored object: (root).optimizer's state 'm' for (root).layer_with_weights-10.bias\n",
      "WARNING:tensorflow:Value in checkpoint could not be found in the restored object: (root).optimizer's state 'm' for (root).layer_with_weights-11.gamma\n",
      "WARNING:tensorflow:Value in checkpoint could not be found in the restored object: (root).optimizer's state 'm' for (root).layer_with_weights-11.beta\n",
      "WARNING:tensorflow:Value in checkpoint could not be found in the restored object: (root).optimizer's state 'm' for (root).layer_with_weights-12.kernel\n",
      "WARNING:tensorflow:Value in checkpoint could not be found in the restored object: (root).optimizer's state 'm' for (root).layer_with_weights-12.bias\n",
      "WARNING:tensorflow:Value in checkpoint could not be found in the restored object: (root).optimizer's state 'm' for (root).layer_with_weights-13.gamma\n",
      "WARNING:tensorflow:Value in checkpoint could not be found in the restored object: (root).optimizer's state 'm' for (root).layer_with_weights-13.beta\n",
      "WARNING:tensorflow:Value in checkpoint could not be found in the restored object: (root).optimizer's state 'm' for (root).layer_with_weights-14.kernel\n",
      "WARNING:tensorflow:Value in checkpoint could not be found in the restored object: (root).optimizer's state 'm' for (root).layer_with_weights-14.bias\n",
      "WARNING:tensorflow:Value in checkpoint could not be found in the restored object: (root).optimizer's state 'm' for (root).layer_with_weights-15.gamma\n",
      "WARNING:tensorflow:Value in checkpoint could not be found in the restored object: (root).optimizer's state 'm' for (root).layer_with_weights-15.beta\n",
      "WARNING:tensorflow:Value in checkpoint could not be found in the restored object: (root).optimizer's state 'm' for (root).layer_with_weights-16.kernel\n",
      "WARNING:tensorflow:Value in checkpoint could not be found in the restored object: (root).optimizer's state 'm' for (root).layer_with_weights-16.bias\n",
      "WARNING:tensorflow:Value in checkpoint could not be found in the restored object: (root).optimizer's state 'm' for (root).layer_with_weights-17.gamma\n",
      "WARNING:tensorflow:Value in checkpoint could not be found in the restored object: (root).optimizer's state 'm' for (root).layer_with_weights-17.beta\n",
      "WARNING:tensorflow:Value in checkpoint could not be found in the restored object: (root).optimizer's state 'm' for (root).layer_with_weights-18.kernel\n",
      "WARNING:tensorflow:Value in checkpoint could not be found in the restored object: (root).optimizer's state 'm' for (root).layer_with_weights-18.bias\n",
      "WARNING:tensorflow:Value in checkpoint could not be found in the restored object: (root).optimizer's state 'm' for (root).layer_with_weights-19.gamma\n",
      "WARNING:tensorflow:Value in checkpoint could not be found in the restored object: (root).optimizer's state 'm' for (root).layer_with_weights-19.beta\n",
      "WARNING:tensorflow:Value in checkpoint could not be found in the restored object: (root).optimizer's state 'm' for (root).layer_with_weights-20.kernel\n",
      "WARNING:tensorflow:Value in checkpoint could not be found in the restored object: (root).optimizer's state 'm' for (root).layer_with_weights-20.bias\n",
      "WARNING:tensorflow:Value in checkpoint could not be found in the restored object: (root).optimizer's state 'm' for (root).layer_with_weights-21.gamma\n",
      "WARNING:tensorflow:Value in checkpoint could not be found in the restored object: (root).optimizer's state 'm' for (root).layer_with_weights-21.beta\n",
      "WARNING:tensorflow:Value in checkpoint could not be found in the restored object: (root).optimizer's state 'm' for (root).layer_with_weights-22.kernel\n",
      "WARNING:tensorflow:Value in checkpoint could not be found in the restored object: (root).optimizer's state 'm' for (root).layer_with_weights-22.bias\n",
      "WARNING:tensorflow:Value in checkpoint could not be found in the restored object: (root).optimizer's state 'm' for (root).layer_with_weights-23.gamma\n",
      "WARNING:tensorflow:Value in checkpoint could not be found in the restored object: (root).optimizer's state 'm' for (root).layer_with_weights-23.beta\n",
      "WARNING:tensorflow:Value in checkpoint could not be found in the restored object: (root).optimizer's state 'm' for (root).layer_with_weights-24.kernel\n",
      "WARNING:tensorflow:Value in checkpoint could not be found in the restored object: (root).optimizer's state 'm' for (root).layer_with_weights-24.bias\n",
      "WARNING:tensorflow:Value in checkpoint could not be found in the restored object: (root).optimizer's state 'v' for (root).layer_with_weights-0.kernel\n",
      "WARNING:tensorflow:Value in checkpoint could not be found in the restored object: (root).optimizer's state 'v' for (root).layer_with_weights-0.bias\n",
      "WARNING:tensorflow:Value in checkpoint could not be found in the restored object: (root).optimizer's state 'v' for (root).layer_with_weights-1.gamma\n",
      "WARNING:tensorflow:Value in checkpoint could not be found in the restored object: (root).optimizer's state 'v' for (root).layer_with_weights-1.beta\n",
      "WARNING:tensorflow:Value in checkpoint could not be found in the restored object: (root).optimizer's state 'v' for (root).layer_with_weights-2.kernel\n",
      "WARNING:tensorflow:Value in checkpoint could not be found in the restored object: (root).optimizer's state 'v' for (root).layer_with_weights-2.bias\n",
      "WARNING:tensorflow:Value in checkpoint could not be found in the restored object: (root).optimizer's state 'v' for (root).layer_with_weights-3.gamma\n",
      "WARNING:tensorflow:Value in checkpoint could not be found in the restored object: (root).optimizer's state 'v' for (root).layer_with_weights-3.beta\n",
      "WARNING:tensorflow:Value in checkpoint could not be found in the restored object: (root).optimizer's state 'v' for (root).layer_with_weights-4.kernel\n",
      "WARNING:tensorflow:Value in checkpoint could not be found in the restored object: (root).optimizer's state 'v' for (root).layer_with_weights-4.bias\n",
      "WARNING:tensorflow:Value in checkpoint could not be found in the restored object: (root).optimizer's state 'v' for (root).layer_with_weights-5.gamma\n",
      "WARNING:tensorflow:Value in checkpoint could not be found in the restored object: (root).optimizer's state 'v' for (root).layer_with_weights-5.beta\n",
      "WARNING:tensorflow:Value in checkpoint could not be found in the restored object: (root).optimizer's state 'v' for (root).layer_with_weights-6.kernel\n",
      "WARNING:tensorflow:Value in checkpoint could not be found in the restored object: (root).optimizer's state 'v' for (root).layer_with_weights-6.bias\n",
      "WARNING:tensorflow:Value in checkpoint could not be found in the restored object: (root).optimizer's state 'v' for (root).layer_with_weights-7.gamma\n",
      "WARNING:tensorflow:Value in checkpoint could not be found in the restored object: (root).optimizer's state 'v' for (root).layer_with_weights-7.beta\n",
      "WARNING:tensorflow:Value in checkpoint could not be found in the restored object: (root).optimizer's state 'v' for (root).layer_with_weights-8.kernel\n",
      "WARNING:tensorflow:Value in checkpoint could not be found in the restored object: (root).optimizer's state 'v' for (root).layer_with_weights-8.bias\n",
      "WARNING:tensorflow:Value in checkpoint could not be found in the restored object: (root).optimizer's state 'v' for (root).layer_with_weights-9.gamma\n",
      "WARNING:tensorflow:Value in checkpoint could not be found in the restored object: (root).optimizer's state 'v' for (root).layer_with_weights-9.beta\n",
      "WARNING:tensorflow:Value in checkpoint could not be found in the restored object: (root).optimizer's state 'v' for (root).layer_with_weights-10.kernel\n",
      "WARNING:tensorflow:Value in checkpoint could not be found in the restored object: (root).optimizer's state 'v' for (root).layer_with_weights-10.bias\n",
      "WARNING:tensorflow:Value in checkpoint could not be found in the restored object: (root).optimizer's state 'v' for (root).layer_with_weights-11.gamma\n",
      "WARNING:tensorflow:Value in checkpoint could not be found in the restored object: (root).optimizer's state 'v' for (root).layer_with_weights-11.beta\n",
      "WARNING:tensorflow:Value in checkpoint could not be found in the restored object: (root).optimizer's state 'v' for (root).layer_with_weights-12.kernel\n",
      "WARNING:tensorflow:Value in checkpoint could not be found in the restored object: (root).optimizer's state 'v' for (root).layer_with_weights-12.bias\n",
      "WARNING:tensorflow:Value in checkpoint could not be found in the restored object: (root).optimizer's state 'v' for (root).layer_with_weights-13.gamma\n",
      "WARNING:tensorflow:Value in checkpoint could not be found in the restored object: (root).optimizer's state 'v' for (root).layer_with_weights-13.beta\n",
      "WARNING:tensorflow:Value in checkpoint could not be found in the restored object: (root).optimizer's state 'v' for (root).layer_with_weights-14.kernel\n",
      "WARNING:tensorflow:Value in checkpoint could not be found in the restored object: (root).optimizer's state 'v' for (root).layer_with_weights-14.bias\n",
      "WARNING:tensorflow:Value in checkpoint could not be found in the restored object: (root).optimizer's state 'v' for (root).layer_with_weights-15.gamma\n",
      "WARNING:tensorflow:Value in checkpoint could not be found in the restored object: (root).optimizer's state 'v' for (root).layer_with_weights-15.beta\n",
      "WARNING:tensorflow:Value in checkpoint could not be found in the restored object: (root).optimizer's state 'v' for (root).layer_with_weights-16.kernel\n",
      "WARNING:tensorflow:Value in checkpoint could not be found in the restored object: (root).optimizer's state 'v' for (root).layer_with_weights-16.bias\n",
      "WARNING:tensorflow:Value in checkpoint could not be found in the restored object: (root).optimizer's state 'v' for (root).layer_with_weights-17.gamma\n",
      "WARNING:tensorflow:Value in checkpoint could not be found in the restored object: (root).optimizer's state 'v' for (root).layer_with_weights-17.beta\n",
      "WARNING:tensorflow:Value in checkpoint could not be found in the restored object: (root).optimizer's state 'v' for (root).layer_with_weights-18.kernel\n",
      "WARNING:tensorflow:Value in checkpoint could not be found in the restored object: (root).optimizer's state 'v' for (root).layer_with_weights-18.bias\n",
      "WARNING:tensorflow:Value in checkpoint could not be found in the restored object: (root).optimizer's state 'v' for (root).layer_with_weights-19.gamma\n",
      "WARNING:tensorflow:Value in checkpoint could not be found in the restored object: (root).optimizer's state 'v' for (root).layer_with_weights-19.beta\n",
      "WARNING:tensorflow:Value in checkpoint could not be found in the restored object: (root).optimizer's state 'v' for (root).layer_with_weights-20.kernel\n",
      "WARNING:tensorflow:Value in checkpoint could not be found in the restored object: (root).optimizer's state 'v' for (root).layer_with_weights-20.bias\n",
      "WARNING:tensorflow:Value in checkpoint could not be found in the restored object: (root).optimizer's state 'v' for (root).layer_with_weights-21.gamma\n",
      "WARNING:tensorflow:Value in checkpoint could not be found in the restored object: (root).optimizer's state 'v' for (root).layer_with_weights-21.beta\n",
      "WARNING:tensorflow:Value in checkpoint could not be found in the restored object: (root).optimizer's state 'v' for (root).layer_with_weights-22.kernel\n",
      "WARNING:tensorflow:Value in checkpoint could not be found in the restored object: (root).optimizer's state 'v' for (root).layer_with_weights-22.bias\n",
      "WARNING:tensorflow:Value in checkpoint could not be found in the restored object: (root).optimizer's state 'v' for (root).layer_with_weights-23.gamma\n",
      "WARNING:tensorflow:Value in checkpoint could not be found in the restored object: (root).optimizer's state 'v' for (root).layer_with_weights-23.beta\n",
      "WARNING:tensorflow:Value in checkpoint could not be found in the restored object: (root).optimizer's state 'v' for (root).layer_with_weights-24.kernel\n",
      "WARNING:tensorflow:Value in checkpoint could not be found in the restored object: (root).optimizer's state 'v' for (root).layer_with_weights-24.bias\n",
      "WARNING:tensorflow:Detecting that an object or model or tf.train.Checkpoint is being deleted with unrestored values. See the following logs for the specific values in question. To silence these warnings, use `status.expect_partial()`. See https://www.tensorflow.org/api_docs/python/tf/train/Checkpoint#restorefor details about the status object returned by the restore function.\n",
      "WARNING:tensorflow:Value in checkpoint could not be found in the restored object: (root).layer_with_weights-0.kernel\n",
      "WARNING:tensorflow:Value in checkpoint could not be found in the restored object: (root).layer_with_weights-0.bias\n",
      "WARNING:tensorflow:Value in checkpoint could not be found in the restored object: (root).layer_with_weights-1.gamma\n",
      "WARNING:tensorflow:Value in checkpoint could not be found in the restored object: (root).layer_with_weights-1.beta\n",
      "WARNING:tensorflow:Value in checkpoint could not be found in the restored object: (root).layer_with_weights-1.moving_mean\n",
      "WARNING:tensorflow:Value in checkpoint could not be found in the restored object: (root).layer_with_weights-1.moving_variance\n",
      "WARNING:tensorflow:Value in checkpoint could not be found in the restored object: (root).layer_with_weights-2.kernel\n",
      "WARNING:tensorflow:Value in checkpoint could not be found in the restored object: (root).layer_with_weights-2.bias\n",
      "WARNING:tensorflow:Value in checkpoint could not be found in the restored object: (root).layer_with_weights-3.gamma\n",
      "WARNING:tensorflow:Value in checkpoint could not be found in the restored object: (root).layer_with_weights-3.beta\n",
      "WARNING:tensorflow:Value in checkpoint could not be found in the restored object: (root).layer_with_weights-3.moving_mean\n",
      "WARNING:tensorflow:Value in checkpoint could not be found in the restored object: (root).layer_with_weights-3.moving_variance\n",
      "WARNING:tensorflow:Value in checkpoint could not be found in the restored object: (root).layer_with_weights-4.kernel\n",
      "WARNING:tensorflow:Value in checkpoint could not be found in the restored object: (root).layer_with_weights-4.bias\n",
      "WARNING:tensorflow:Value in checkpoint could not be found in the restored object: (root).layer_with_weights-5.gamma\n",
      "WARNING:tensorflow:Value in checkpoint could not be found in the restored object: (root).layer_with_weights-5.beta\n",
      "WARNING:tensorflow:Value in checkpoint could not be found in the restored object: (root).layer_with_weights-5.moving_mean\n",
      "WARNING:tensorflow:Value in checkpoint could not be found in the restored object: (root).layer_with_weights-5.moving_variance\n",
      "WARNING:tensorflow:Value in checkpoint could not be found in the restored object: (root).layer_with_weights-6.kernel\n",
      "WARNING:tensorflow:Value in checkpoint could not be found in the restored object: (root).layer_with_weights-6.bias\n",
      "WARNING:tensorflow:Value in checkpoint could not be found in the restored object: (root).layer_with_weights-7.gamma\n",
      "WARNING:tensorflow:Value in checkpoint could not be found in the restored object: (root).layer_with_weights-7.beta\n",
      "WARNING:tensorflow:Value in checkpoint could not be found in the restored object: (root).layer_with_weights-7.moving_mean\n",
      "WARNING:tensorflow:Value in checkpoint could not be found in the restored object: (root).layer_with_weights-7.moving_variance\n",
      "WARNING:tensorflow:Value in checkpoint could not be found in the restored object: (root).layer_with_weights-8.kernel\n",
      "WARNING:tensorflow:Value in checkpoint could not be found in the restored object: (root).layer_with_weights-8.bias\n",
      "WARNING:tensorflow:Value in checkpoint could not be found in the restored object: (root).layer_with_weights-9.gamma\n",
      "WARNING:tensorflow:Value in checkpoint could not be found in the restored object: (root).layer_with_weights-9.beta\n",
      "WARNING:tensorflow:Value in checkpoint could not be found in the restored object: (root).layer_with_weights-9.moving_mean\n",
      "WARNING:tensorflow:Value in checkpoint could not be found in the restored object: (root).layer_with_weights-9.moving_variance\n",
      "WARNING:tensorflow:Value in checkpoint could not be found in the restored object: (root).layer_with_weights-10.kernel\n",
      "WARNING:tensorflow:Value in checkpoint could not be found in the restored object: (root).layer_with_weights-10.bias\n",
      "WARNING:tensorflow:Value in checkpoint could not be found in the restored object: (root).layer_with_weights-11.gamma\n",
      "WARNING:tensorflow:Value in checkpoint could not be found in the restored object: (root).layer_with_weights-11.beta\n",
      "WARNING:tensorflow:Value in checkpoint could not be found in the restored object: (root).layer_with_weights-11.moving_mean\n",
      "WARNING:tensorflow:Value in checkpoint could not be found in the restored object: (root).layer_with_weights-11.moving_variance\n",
      "WARNING:tensorflow:Value in checkpoint could not be found in the restored object: (root).layer_with_weights-12.kernel\n",
      "WARNING:tensorflow:Value in checkpoint could not be found in the restored object: (root).layer_with_weights-12.bias\n",
      "WARNING:tensorflow:Value in checkpoint could not be found in the restored object: (root).layer_with_weights-13.gamma\n",
      "WARNING:tensorflow:Value in checkpoint could not be found in the restored object: (root).layer_with_weights-13.beta\n",
      "WARNING:tensorflow:Value in checkpoint could not be found in the restored object: (root).layer_with_weights-13.moving_mean\n",
      "WARNING:tensorflow:Value in checkpoint could not be found in the restored object: (root).layer_with_weights-13.moving_variance\n",
      "WARNING:tensorflow:Value in checkpoint could not be found in the restored object: (root).layer_with_weights-14.kernel\n",
      "WARNING:tensorflow:Value in checkpoint could not be found in the restored object: (root).layer_with_weights-14.bias\n",
      "WARNING:tensorflow:Value in checkpoint could not be found in the restored object: (root).layer_with_weights-15.gamma\n",
      "WARNING:tensorflow:Value in checkpoint could not be found in the restored object: (root).layer_with_weights-15.beta\n",
      "WARNING:tensorflow:Value in checkpoint could not be found in the restored object: (root).layer_with_weights-15.moving_mean\n",
      "WARNING:tensorflow:Value in checkpoint could not be found in the restored object: (root).layer_with_weights-15.moving_variance\n",
      "WARNING:tensorflow:Value in checkpoint could not be found in the restored object: (root).layer_with_weights-16.kernel\n",
      "WARNING:tensorflow:Value in checkpoint could not be found in the restored object: (root).layer_with_weights-16.bias\n",
      "WARNING:tensorflow:Value in checkpoint could not be found in the restored object: (root).layer_with_weights-17.gamma\n",
      "WARNING:tensorflow:Value in checkpoint could not be found in the restored object: (root).layer_with_weights-17.beta\n",
      "WARNING:tensorflow:Value in checkpoint could not be found in the restored object: (root).layer_with_weights-17.moving_mean\n",
      "WARNING:tensorflow:Value in checkpoint could not be found in the restored object: (root).layer_with_weights-17.moving_variance\n",
      "WARNING:tensorflow:Value in checkpoint could not be found in the restored object: (root).layer_with_weights-18.kernel\n",
      "WARNING:tensorflow:Value in checkpoint could not be found in the restored object: (root).layer_with_weights-18.bias\n",
      "WARNING:tensorflow:Value in checkpoint could not be found in the restored object: (root).layer_with_weights-19.gamma\n",
      "WARNING:tensorflow:Value in checkpoint could not be found in the restored object: (root).layer_with_weights-19.beta\n",
      "WARNING:tensorflow:Value in checkpoint could not be found in the restored object: (root).layer_with_weights-19.moving_mean\n",
      "WARNING:tensorflow:Value in checkpoint could not be found in the restored object: (root).layer_with_weights-19.moving_variance\n",
      "WARNING:tensorflow:Value in checkpoint could not be found in the restored object: (root).layer_with_weights-20.kernel\n",
      "WARNING:tensorflow:Value in checkpoint could not be found in the restored object: (root).layer_with_weights-20.bias\n",
      "WARNING:tensorflow:Value in checkpoint could not be found in the restored object: (root).layer_with_weights-21.gamma\n",
      "WARNING:tensorflow:Value in checkpoint could not be found in the restored object: (root).layer_with_weights-21.beta\n",
      "WARNING:tensorflow:Value in checkpoint could not be found in the restored object: (root).layer_with_weights-21.moving_mean\n",
      "WARNING:tensorflow:Value in checkpoint could not be found in the restored object: (root).layer_with_weights-21.moving_variance\n",
      "WARNING:tensorflow:Value in checkpoint could not be found in the restored object: (root).layer_with_weights-22.kernel\n",
      "WARNING:tensorflow:Value in checkpoint could not be found in the restored object: (root).layer_with_weights-22.bias\n",
      "WARNING:tensorflow:Value in checkpoint could not be found in the restored object: (root).layer_with_weights-23.gamma\n",
      "WARNING:tensorflow:Value in checkpoint could not be found in the restored object: (root).layer_with_weights-23.beta\n",
      "WARNING:tensorflow:Value in checkpoint could not be found in the restored object: (root).layer_with_weights-23.moving_mean\n",
      "WARNING:tensorflow:Value in checkpoint could not be found in the restored object: (root).layer_with_weights-23.moving_variance\n",
      "WARNING:tensorflow:Value in checkpoint could not be found in the restored object: (root).layer_with_weights-24.kernel\n",
      "WARNING:tensorflow:Value in checkpoint could not be found in the restored object: (root).layer_with_weights-24.bias\n",
      "WARNING:tensorflow:Value in checkpoint could not be found in the restored object: (root).optimizer.iter\n",
      "WARNING:tensorflow:Value in checkpoint could not be found in the restored object: (root).optimizer.beta_1\n",
      "WARNING:tensorflow:Value in checkpoint could not be found in the restored object: (root).optimizer.beta_2\n",
      "WARNING:tensorflow:Value in checkpoint could not be found in the restored object: (root).optimizer.decay\n",
      "WARNING:tensorflow:Value in checkpoint could not be found in the restored object: (root).optimizer.learning_rate\n",
      "WARNING:tensorflow:Value in checkpoint could not be found in the restored object: (root).optimizer's state 'm' for (root).layer_with_weights-0.kernel\n",
      "WARNING:tensorflow:Value in checkpoint could not be found in the restored object: (root).optimizer's state 'm' for (root).layer_with_weights-0.bias\n",
      "WARNING:tensorflow:Value in checkpoint could not be found in the restored object: (root).optimizer's state 'm' for (root).layer_with_weights-1.gamma\n",
      "WARNING:tensorflow:Value in checkpoint could not be found in the restored object: (root).optimizer's state 'm' for (root).layer_with_weights-1.beta\n",
      "WARNING:tensorflow:Value in checkpoint could not be found in the restored object: (root).optimizer's state 'm' for (root).layer_with_weights-2.kernel\n",
      "WARNING:tensorflow:Value in checkpoint could not be found in the restored object: (root).optimizer's state 'm' for (root).layer_with_weights-2.bias\n",
      "WARNING:tensorflow:Value in checkpoint could not be found in the restored object: (root).optimizer's state 'm' for (root).layer_with_weights-3.gamma\n",
      "WARNING:tensorflow:Value in checkpoint could not be found in the restored object: (root).optimizer's state 'm' for (root).layer_with_weights-3.beta\n",
      "WARNING:tensorflow:Value in checkpoint could not be found in the restored object: (root).optimizer's state 'm' for (root).layer_with_weights-4.kernel\n",
      "WARNING:tensorflow:Value in checkpoint could not be found in the restored object: (root).optimizer's state 'm' for (root).layer_with_weights-4.bias\n",
      "WARNING:tensorflow:Value in checkpoint could not be found in the restored object: (root).optimizer's state 'm' for (root).layer_with_weights-5.gamma\n",
      "WARNING:tensorflow:Value in checkpoint could not be found in the restored object: (root).optimizer's state 'm' for (root).layer_with_weights-5.beta\n",
      "WARNING:tensorflow:Value in checkpoint could not be found in the restored object: (root).optimizer's state 'm' for (root).layer_with_weights-6.kernel\n",
      "WARNING:tensorflow:Value in checkpoint could not be found in the restored object: (root).optimizer's state 'm' for (root).layer_with_weights-6.bias\n",
      "WARNING:tensorflow:Value in checkpoint could not be found in the restored object: (root).optimizer's state 'm' for (root).layer_with_weights-7.gamma\n",
      "WARNING:tensorflow:Value in checkpoint could not be found in the restored object: (root).optimizer's state 'm' for (root).layer_with_weights-7.beta\n",
      "WARNING:tensorflow:Value in checkpoint could not be found in the restored object: (root).optimizer's state 'm' for (root).layer_with_weights-8.kernel\n",
      "WARNING:tensorflow:Value in checkpoint could not be found in the restored object: (root).optimizer's state 'm' for (root).layer_with_weights-8.bias\n",
      "WARNING:tensorflow:Value in checkpoint could not be found in the restored object: (root).optimizer's state 'm' for (root).layer_with_weights-9.gamma\n",
      "WARNING:tensorflow:Value in checkpoint could not be found in the restored object: (root).optimizer's state 'm' for (root).layer_with_weights-9.beta\n",
      "WARNING:tensorflow:Value in checkpoint could not be found in the restored object: (root).optimizer's state 'm' for (root).layer_with_weights-10.kernel\n",
      "WARNING:tensorflow:Value in checkpoint could not be found in the restored object: (root).optimizer's state 'm' for (root).layer_with_weights-10.bias\n",
      "WARNING:tensorflow:Value in checkpoint could not be found in the restored object: (root).optimizer's state 'm' for (root).layer_with_weights-11.gamma\n",
      "WARNING:tensorflow:Value in checkpoint could not be found in the restored object: (root).optimizer's state 'm' for (root).layer_with_weights-11.beta\n",
      "WARNING:tensorflow:Value in checkpoint could not be found in the restored object: (root).optimizer's state 'm' for (root).layer_with_weights-12.kernel\n",
      "WARNING:tensorflow:Value in checkpoint could not be found in the restored object: (root).optimizer's state 'm' for (root).layer_with_weights-12.bias\n",
      "WARNING:tensorflow:Value in checkpoint could not be found in the restored object: (root).optimizer's state 'm' for (root).layer_with_weights-13.gamma\n",
      "WARNING:tensorflow:Value in checkpoint could not be found in the restored object: (root).optimizer's state 'm' for (root).layer_with_weights-13.beta\n",
      "WARNING:tensorflow:Value in checkpoint could not be found in the restored object: (root).optimizer's state 'm' for (root).layer_with_weights-14.kernel\n",
      "WARNING:tensorflow:Value in checkpoint could not be found in the restored object: (root).optimizer's state 'm' for (root).layer_with_weights-14.bias\n",
      "WARNING:tensorflow:Value in checkpoint could not be found in the restored object: (root).optimizer's state 'm' for (root).layer_with_weights-15.gamma\n",
      "WARNING:tensorflow:Value in checkpoint could not be found in the restored object: (root).optimizer's state 'm' for (root).layer_with_weights-15.beta\n",
      "WARNING:tensorflow:Value in checkpoint could not be found in the restored object: (root).optimizer's state 'm' for (root).layer_with_weights-16.kernel\n",
      "WARNING:tensorflow:Value in checkpoint could not be found in the restored object: (root).optimizer's state 'm' for (root).layer_with_weights-16.bias\n",
      "WARNING:tensorflow:Value in checkpoint could not be found in the restored object: (root).optimizer's state 'm' for (root).layer_with_weights-17.gamma\n",
      "WARNING:tensorflow:Value in checkpoint could not be found in the restored object: (root).optimizer's state 'm' for (root).layer_with_weights-17.beta\n",
      "WARNING:tensorflow:Value in checkpoint could not be found in the restored object: (root).optimizer's state 'm' for (root).layer_with_weights-18.kernel\n",
      "WARNING:tensorflow:Value in checkpoint could not be found in the restored object: (root).optimizer's state 'm' for (root).layer_with_weights-18.bias\n",
      "WARNING:tensorflow:Value in checkpoint could not be found in the restored object: (root).optimizer's state 'm' for (root).layer_with_weights-19.gamma\n",
      "WARNING:tensorflow:Value in checkpoint could not be found in the restored object: (root).optimizer's state 'm' for (root).layer_with_weights-19.beta\n",
      "WARNING:tensorflow:Value in checkpoint could not be found in the restored object: (root).optimizer's state 'm' for (root).layer_with_weights-20.kernel\n",
      "WARNING:tensorflow:Value in checkpoint could not be found in the restored object: (root).optimizer's state 'm' for (root).layer_with_weights-20.bias\n",
      "WARNING:tensorflow:Value in checkpoint could not be found in the restored object: (root).optimizer's state 'm' for (root).layer_with_weights-21.gamma\n",
      "WARNING:tensorflow:Value in checkpoint could not be found in the restored object: (root).optimizer's state 'm' for (root).layer_with_weights-21.beta\n",
      "WARNING:tensorflow:Value in checkpoint could not be found in the restored object: (root).optimizer's state 'm' for (root).layer_with_weights-22.kernel\n",
      "WARNING:tensorflow:Value in checkpoint could not be found in the restored object: (root).optimizer's state 'm' for (root).layer_with_weights-22.bias\n",
      "WARNING:tensorflow:Value in checkpoint could not be found in the restored object: (root).optimizer's state 'm' for (root).layer_with_weights-23.gamma\n",
      "WARNING:tensorflow:Value in checkpoint could not be found in the restored object: (root).optimizer's state 'm' for (root).layer_with_weights-23.beta\n",
      "WARNING:tensorflow:Value in checkpoint could not be found in the restored object: (root).optimizer's state 'm' for (root).layer_with_weights-24.kernel\n",
      "WARNING:tensorflow:Value in checkpoint could not be found in the restored object: (root).optimizer's state 'm' for (root).layer_with_weights-24.bias\n",
      "WARNING:tensorflow:Value in checkpoint could not be found in the restored object: (root).optimizer's state 'v' for (root).layer_with_weights-0.kernel\n",
      "WARNING:tensorflow:Value in checkpoint could not be found in the restored object: (root).optimizer's state 'v' for (root).layer_with_weights-0.bias\n",
      "WARNING:tensorflow:Value in checkpoint could not be found in the restored object: (root).optimizer's state 'v' for (root).layer_with_weights-1.gamma\n",
      "WARNING:tensorflow:Value in checkpoint could not be found in the restored object: (root).optimizer's state 'v' for (root).layer_with_weights-1.beta\n",
      "WARNING:tensorflow:Value in checkpoint could not be found in the restored object: (root).optimizer's state 'v' for (root).layer_with_weights-2.kernel\n",
      "WARNING:tensorflow:Value in checkpoint could not be found in the restored object: (root).optimizer's state 'v' for (root).layer_with_weights-2.bias\n",
      "WARNING:tensorflow:Value in checkpoint could not be found in the restored object: (root).optimizer's state 'v' for (root).layer_with_weights-3.gamma\n",
      "WARNING:tensorflow:Value in checkpoint could not be found in the restored object: (root).optimizer's state 'v' for (root).layer_with_weights-3.beta\n",
      "WARNING:tensorflow:Value in checkpoint could not be found in the restored object: (root).optimizer's state 'v' for (root).layer_with_weights-4.kernel\n",
      "WARNING:tensorflow:Value in checkpoint could not be found in the restored object: (root).optimizer's state 'v' for (root).layer_with_weights-4.bias\n",
      "WARNING:tensorflow:Value in checkpoint could not be found in the restored object: (root).optimizer's state 'v' for (root).layer_with_weights-5.gamma\n",
      "WARNING:tensorflow:Value in checkpoint could not be found in the restored object: (root).optimizer's state 'v' for (root).layer_with_weights-5.beta\n",
      "WARNING:tensorflow:Value in checkpoint could not be found in the restored object: (root).optimizer's state 'v' for (root).layer_with_weights-6.kernel\n",
      "WARNING:tensorflow:Value in checkpoint could not be found in the restored object: (root).optimizer's state 'v' for (root).layer_with_weights-6.bias\n",
      "WARNING:tensorflow:Value in checkpoint could not be found in the restored object: (root).optimizer's state 'v' for (root).layer_with_weights-7.gamma\n",
      "WARNING:tensorflow:Value in checkpoint could not be found in the restored object: (root).optimizer's state 'v' for (root).layer_with_weights-7.beta\n",
      "WARNING:tensorflow:Value in checkpoint could not be found in the restored object: (root).optimizer's state 'v' for (root).layer_with_weights-8.kernel\n",
      "WARNING:tensorflow:Value in checkpoint could not be found in the restored object: (root).optimizer's state 'v' for (root).layer_with_weights-8.bias\n",
      "WARNING:tensorflow:Value in checkpoint could not be found in the restored object: (root).optimizer's state 'v' for (root).layer_with_weights-9.gamma\n",
      "WARNING:tensorflow:Value in checkpoint could not be found in the restored object: (root).optimizer's state 'v' for (root).layer_with_weights-9.beta\n",
      "WARNING:tensorflow:Value in checkpoint could not be found in the restored object: (root).optimizer's state 'v' for (root).layer_with_weights-10.kernel\n",
      "WARNING:tensorflow:Value in checkpoint could not be found in the restored object: (root).optimizer's state 'v' for (root).layer_with_weights-10.bias\n",
      "WARNING:tensorflow:Value in checkpoint could not be found in the restored object: (root).optimizer's state 'v' for (root).layer_with_weights-11.gamma\n",
      "WARNING:tensorflow:Value in checkpoint could not be found in the restored object: (root).optimizer's state 'v' for (root).layer_with_weights-11.beta\n",
      "WARNING:tensorflow:Value in checkpoint could not be found in the restored object: (root).optimizer's state 'v' for (root).layer_with_weights-12.kernel\n",
      "WARNING:tensorflow:Value in checkpoint could not be found in the restored object: (root).optimizer's state 'v' for (root).layer_with_weights-12.bias\n",
      "WARNING:tensorflow:Value in checkpoint could not be found in the restored object: (root).optimizer's state 'v' for (root).layer_with_weights-13.gamma\n",
      "WARNING:tensorflow:Value in checkpoint could not be found in the restored object: (root).optimizer's state 'v' for (root).layer_with_weights-13.beta\n",
      "WARNING:tensorflow:Value in checkpoint could not be found in the restored object: (root).optimizer's state 'v' for (root).layer_with_weights-14.kernel\n",
      "WARNING:tensorflow:Value in checkpoint could not be found in the restored object: (root).optimizer's state 'v' for (root).layer_with_weights-14.bias\n",
      "WARNING:tensorflow:Value in checkpoint could not be found in the restored object: (root).optimizer's state 'v' for (root).layer_with_weights-15.gamma\n",
      "WARNING:tensorflow:Value in checkpoint could not be found in the restored object: (root).optimizer's state 'v' for (root).layer_with_weights-15.beta\n",
      "WARNING:tensorflow:Value in checkpoint could not be found in the restored object: (root).optimizer's state 'v' for (root).layer_with_weights-16.kernel\n",
      "WARNING:tensorflow:Value in checkpoint could not be found in the restored object: (root).optimizer's state 'v' for (root).layer_with_weights-16.bias\n",
      "WARNING:tensorflow:Value in checkpoint could not be found in the restored object: (root).optimizer's state 'v' for (root).layer_with_weights-17.gamma\n",
      "WARNING:tensorflow:Value in checkpoint could not be found in the restored object: (root).optimizer's state 'v' for (root).layer_with_weights-17.beta\n",
      "WARNING:tensorflow:Value in checkpoint could not be found in the restored object: (root).optimizer's state 'v' for (root).layer_with_weights-18.kernel\n",
      "WARNING:tensorflow:Value in checkpoint could not be found in the restored object: (root).optimizer's state 'v' for (root).layer_with_weights-18.bias\n",
      "WARNING:tensorflow:Value in checkpoint could not be found in the restored object: (root).optimizer's state 'v' for (root).layer_with_weights-19.gamma\n",
      "WARNING:tensorflow:Value in checkpoint could not be found in the restored object: (root).optimizer's state 'v' for (root).layer_with_weights-19.beta\n",
      "WARNING:tensorflow:Value in checkpoint could not be found in the restored object: (root).optimizer's state 'v' for (root).layer_with_weights-20.kernel\n",
      "WARNING:tensorflow:Value in checkpoint could not be found in the restored object: (root).optimizer's state 'v' for (root).layer_with_weights-20.bias\n",
      "WARNING:tensorflow:Value in checkpoint could not be found in the restored object: (root).optimizer's state 'v' for (root).layer_with_weights-21.gamma\n",
      "WARNING:tensorflow:Value in checkpoint could not be found in the restored object: (root).optimizer's state 'v' for (root).layer_with_weights-21.beta\n",
      "WARNING:tensorflow:Value in checkpoint could not be found in the restored object: (root).optimizer's state 'v' for (root).layer_with_weights-22.kernel\n",
      "WARNING:tensorflow:Value in checkpoint could not be found in the restored object: (root).optimizer's state 'v' for (root).layer_with_weights-22.bias\n",
      "WARNING:tensorflow:Value in checkpoint could not be found in the restored object: (root).optimizer's state 'v' for (root).layer_with_weights-23.gamma\n",
      "WARNING:tensorflow:Value in checkpoint could not be found in the restored object: (root).optimizer's state 'v' for (root).layer_with_weights-23.beta\n",
      "WARNING:tensorflow:Value in checkpoint could not be found in the restored object: (root).optimizer's state 'v' for (root).layer_with_weights-24.kernel\n",
      "WARNING:tensorflow:Value in checkpoint could not be found in the restored object: (root).optimizer's state 'v' for (root).layer_with_weights-24.bias\n"
     ]
    }
   ],
   "source": [
    "# Get the top model.\n",
    "models = tuner.get_best_models()"
   ]
  },
  {
   "cell_type": "code",
   "execution_count": 66,
   "id": "3c5febd2-4f32-4a34-81c9-38282fc662fc",
   "metadata": {},
   "outputs": [],
   "source": [
    "# Get the best one\n",
    "best_model = models[0]"
   ]
  },
  {
   "cell_type": "code",
   "execution_count": 67,
   "id": "808bbe01-48c6-4b16-80e2-ec027d3c5e21",
   "metadata": {
    "scrolled": true,
    "tags": []
   },
   "outputs": [
    {
     "ename": "ValueError",
     "evalue": "This model has not yet been built. Build the model first by calling `build()` or by calling the model on a batch of data.",
     "output_type": "error",
     "traceback": [
      "\u001b[0;31m---------------------------------------------------------------------------\u001b[0m",
      "\u001b[0;31mValueError\u001b[0m                                Traceback (most recent call last)",
      "Input \u001b[0;32mIn [67]\u001b[0m, in \u001b[0;36m<module>\u001b[0;34m\u001b[0m\n\u001b[1;32m      1\u001b[0m \u001b[38;5;66;03m# Print the best model summary\u001b[39;00m\n\u001b[0;32m----> 2\u001b[0m \u001b[43mbest_model\u001b[49m\u001b[38;5;241;43m.\u001b[39;49m\u001b[43msummary\u001b[49m\u001b[43m(\u001b[49m\u001b[43m)\u001b[49m\n",
      "File \u001b[0;32m/usr/local/lib/python3.8/dist-packages/keras/engine/training.py:2775\u001b[0m, in \u001b[0;36mModel.summary\u001b[0;34m(self, line_length, positions, print_fn, expand_nested, show_trainable)\u001b[0m\n\u001b[1;32m   2753\u001b[0m \u001b[38;5;124;03m\"\"\"Prints a string summary of the network.\u001b[39;00m\n\u001b[1;32m   2754\u001b[0m \n\u001b[1;32m   2755\u001b[0m \u001b[38;5;124;03mArgs:\u001b[39;00m\n\u001b[0;32m   (...)\u001b[0m\n\u001b[1;32m   2772\u001b[0m \u001b[38;5;124;03m    ValueError: if `summary()` is called before the model is built.\u001b[39;00m\n\u001b[1;32m   2773\u001b[0m \u001b[38;5;124;03m\"\"\"\u001b[39;00m\n\u001b[1;32m   2774\u001b[0m \u001b[38;5;28;01mif\u001b[39;00m \u001b[38;5;129;01mnot\u001b[39;00m \u001b[38;5;28mself\u001b[39m\u001b[38;5;241m.\u001b[39mbuilt:\n\u001b[0;32m-> 2775\u001b[0m   \u001b[38;5;28;01mraise\u001b[39;00m \u001b[38;5;167;01mValueError\u001b[39;00m(\n\u001b[1;32m   2776\u001b[0m       \u001b[38;5;124m'\u001b[39m\u001b[38;5;124mThis model has not yet been built. \u001b[39m\u001b[38;5;124m'\u001b[39m\n\u001b[1;32m   2777\u001b[0m       \u001b[38;5;124m'\u001b[39m\u001b[38;5;124mBuild the model first by calling `build()` or by calling \u001b[39m\u001b[38;5;124m'\u001b[39m\n\u001b[1;32m   2778\u001b[0m       \u001b[38;5;124m'\u001b[39m\u001b[38;5;124mthe model on a batch of data.\u001b[39m\u001b[38;5;124m'\u001b[39m)\n\u001b[1;32m   2779\u001b[0m layer_utils\u001b[38;5;241m.\u001b[39mprint_summary(\n\u001b[1;32m   2780\u001b[0m     \u001b[38;5;28mself\u001b[39m,\n\u001b[1;32m   2781\u001b[0m     line_length\u001b[38;5;241m=\u001b[39mline_length,\n\u001b[0;32m   (...)\u001b[0m\n\u001b[1;32m   2784\u001b[0m     expand_nested\u001b[38;5;241m=\u001b[39mexpand_nested,\n\u001b[1;32m   2785\u001b[0m     show_trainable\u001b[38;5;241m=\u001b[39mshow_trainable)\n",
      "\u001b[0;31mValueError\u001b[0m: This model has not yet been built. Build the model first by calling `build()` or by calling the model on a batch of data."
     ]
    }
   ],
   "source": [
    "# Print the best model summary\n",
    "best_model.summary()"
   ]
  },
  {
   "cell_type": "code",
   "execution_count": 68,
   "id": "b1b1a753-eba0-435a-a367-5c4589417e48",
   "metadata": {},
   "outputs": [
    {
     "ename": "TypeError",
     "evalue": "'NoneType' object is not callable",
     "output_type": "error",
     "traceback": [
      "\u001b[0;31m---------------------------------------------------------------------------\u001b[0m",
      "\u001b[0;31mTypeError\u001b[0m                                 Traceback (most recent call last)",
      "Input \u001b[0;32mIn [68]\u001b[0m, in \u001b[0;36m<module>\u001b[0;34m\u001b[0m\n\u001b[0;32m----> 1\u001b[0m \u001b[43mbest_model\u001b[49m\u001b[38;5;241;43m.\u001b[39;49m\u001b[43mhistory\u001b[49m\u001b[43m(\u001b[49m\u001b[43m)\u001b[49m\n",
      "\u001b[0;31mTypeError\u001b[0m: 'NoneType' object is not callable"
     ]
    }
   ],
   "source": [
    "best_model.history()"
   ]
  },
  {
   "cell_type": "code",
   "execution_count": null,
   "id": "e1fffb60-0b90-4720-b0d8-d1bfc259c088",
   "metadata": {},
   "outputs": [],
   "source": []
  },
  {
   "cell_type": "code",
   "execution_count": null,
   "id": "27b15b00-f32d-4a9d-9b68-b68c2887a422",
   "metadata": {},
   "outputs": [],
   "source": []
  },
  {
   "cell_type": "markdown",
   "id": "eea6aaf9",
   "metadata": {
    "tags": []
   },
   "source": [
    "### 2.4 Training the model"
   ]
  },
  {
   "cell_type": "raw",
   "id": "66b2d9f6-d1c1-4aa6-8681-3847019a6b39",
   "metadata": {
    "tags": []
   },
   "source": [
    "# Define a new instance of the model - Reinitialise model between diferent runs\n",
    "model = VGG_model()\n",
    "# Compilation of the model, define loss function\n",
    "model.compile(loss=\"mean_squared_error\", optimizer=opt, metrics=['mean_absolute_error','RootMeanSquaredError',coeff_determination]) \n",
    "\n",
    "# Define hyperparameter\n",
    "bsize = 64\n",
    "nb_epochs = 100\n",
    "\n",
    "# Train the model \n",
    "history = model.fit(\n",
    "    datagen.flow(x_train, y_train, batch_size=bsize, shuffle=False, seed=3),\n",
    "    steps_per_epoch=int(len(x_train)/bsize),\n",
    "    validation_data = (x_val,y_val),\n",
    "    epochs = nb_epochs, \n",
    "    #callbacks = [checkpoint, reduce, early]\n",
    "    callbacks = [checkpoint]\n",
    ")"
   ]
  },
  {
   "cell_type": "markdown",
   "id": "30f028fb",
   "metadata": {
    "tags": []
   },
   "source": [
    "### 2.5 Visualizing the training history  \n",
    "In this part, we plot the loss curve and metric curve"
   ]
  },
  {
   "cell_type": "code",
   "execution_count": null,
   "id": "1d723208-f57c-4d3a-974a-a6c819c88229",
   "metadata": {},
   "outputs": [],
   "source": []
  },
  {
   "cell_type": "code",
   "execution_count": null,
   "id": "caa12d5d",
   "metadata": {},
   "outputs": [],
   "source": [
    "# plot model training history\n",
    "\n",
    "fig = plt.subplots(figsize=(15, 9))\n",
    "plt.plot(history.history[\"loss\"])\n",
    "plt.plot(history.history[\"val_loss\"])\n",
    "plt.title(\"The loss curve of training and test datasets\")\n",
    "plt.legend(['train', 'val'], loc='upper left')\n",
    "plt.ylabel(\"loss\")\n",
    "plt.xlabel(\"epoch\")\n",
    "plt.ylim([0,25.0])\n",
    "\n",
    "plt.savefig(os.path.join(results_path,'MSR_loss.png'), dpi = 300)\n",
    "plt.show()"
   ]
  },
  {
   "cell_type": "raw",
   "id": "4cdaec55-c57a-4496-83e3-9d1978a7ef37",
   "metadata": {},
   "source": [
    "fig = plt.subplots(figsize=(15, 9))\n",
    "plt.plot(history.history[\"coeff_determination\"])\n",
    "plt.plot(history.history[\"val_coeff_determination\"])\n",
    "plt.title(\"The coefficient of determination curve of training and test datasets\")\n",
    "plt.legend(['train', 'val'], loc='upper left')\n",
    "plt.ylabel(\"R²\")\n",
    "plt.xlabel(\"epoch\")\n",
    "plt.ylim([-1,1.0])\n",
    "\n",
    "plt.savefig(os.path.join(results_path,'CoefDet_curves.png'), dpi = 300)\n",
    "plt.show()"
   ]
  },
  {
   "cell_type": "markdown",
   "id": "571849f7",
   "metadata": {
    "tags": []
   },
   "source": [
    "## 3. Assessing the model performance on test datasets"
   ]
  },
  {
   "cell_type": "markdown",
   "id": "f7df2d64",
   "metadata": {
    "tags": []
   },
   "source": [
    "### 3.1 Save and configure the model with best performance \n",
    "\n",
    "In this step, we will configure the model by reloading the weights of best performance through training, and apply it on both the training and validation datasets. The scatter plots will be created to evaluate the model prediction by comparing training and validation datasets, to see if there are over-/under-estimation or over-fitting etc. "
   ]
  },
  {
   "cell_type": "code",
   "execution_count": null,
   "id": "cfe190b2",
   "metadata": {
    "tags": []
   },
   "outputs": [],
   "source": [
    "# Load best \n",
    "best_model = VGG_model()\n",
    "#best_model = Simple_CNN()\n",
    "best_model.load_weights(checkpoint_filepath)"
   ]
  },
  {
   "cell_type": "markdown",
   "id": "e97cca0e",
   "metadata": {},
   "source": [
    "### 3.2 Applying the model on validation datasets "
   ]
  },
  {
   "cell_type": "code",
   "execution_count": null,
   "id": "88eed9b6",
   "metadata": {},
   "outputs": [],
   "source": [
    "# run the model on the train and test datasets \n",
    "y_pred_val = best_model.predict(x_val) \n",
    "y_pred_train = best_model.predict(x_train)"
   ]
  },
  {
   "cell_type": "code",
   "execution_count": null,
   "id": "8964ed40",
   "metadata": {},
   "outputs": [],
   "source": [
    "# calculate the R2 Score and RMSE\n",
    "from sklearn.metrics import r2_score, mean_squared_error, mean_absolute_error\n",
    "\n",
    "R2_train = r2_score(y_train, y_pred_train)\n",
    "rmse_train = mean_squared_error(y_train, y_pred_train,squared=False) \n",
    "mae_train = mean_absolute_error(y_train, y_pred_train)\n",
    "\n",
    "print(\"the R2 of training dataset is: %0.4f\" %R2_train)\n",
    "print(\"the RMSE of training dataset is: %0.4f\" %rmse_train)\n",
    "print(\"the MAE of training dataset is: %0.4f\" %mae_train)\n",
    "\n",
    "R2_val = r2_score(y_val,y_pred_val)\n",
    "rmse_val = mean_squared_error(y_val, y_pred_val,squared=False) \n",
    "mae_val = mean_absolute_error(y_val, y_pred_val) \n",
    "\n",
    "print(\"the R2 of validation dataset is: %0.4f\" %R2_val)\n",
    "print(\"the RMSE of validation dataset is: %0.4f\" %rmse_val)\n",
    "print(\"the MAE of validation dataset is: %0.4f\" %mae_val)"
   ]
  },
  {
   "cell_type": "code",
   "execution_count": null,
   "id": "c3bc240d-2136-4045-a14f-b1948c71e4d3",
   "metadata": {},
   "outputs": [],
   "source": [
    "fig = plt.figure(figsize=(8,8)) \n",
    "ax=plt.subplot(1,1,1) \n",
    "ax.scatter(y_train, y_pred_train)  \n",
    "ax.plot(np.linspace(15,35,100), np.linspace(15,35,100), c = 'orange', linestyle='--')\n",
    "ax.set_title(\"Train: prediction vs actual deprivation value\")\n",
    "ax.set_xlabel(\"Actual values\")\n",
    "ax.set_ylabel(\"Predicted values\")\n",
    "ax.set_xlim([15,35.0])\n",
    "ax.set_ylim([15,35.0])\n",
    "\n",
    "ax.text(16, 33, \"R-squared = %0.4f\" % R2_train, fontsize=12, color = \"r\", style = \"italic\", weight = \"light\", verticalalignment='center', horizontalalignment='left')\n",
    "ax.text(16, 32, \"RMSE = %0.4f\" % rmse_train, fontsize=12, color = \"r\", style = \"italic\", weight = \"light\", verticalalignment='center', horizontalalignment='left')\n",
    "ax.text(16, 31, \"MAE = %0.4f\" % mae_train, fontsize=12, color = \"r\", style = \"italic\", weight = \"light\", verticalalignment='center', horizontalalignment='left')\n",
    "\n",
    "plt.savefig(os.path.join(results_path,'mae_train.png'), dpi = 300)\n",
    "plt.show()"
   ]
  },
  {
   "cell_type": "code",
   "execution_count": null,
   "id": "a65c8697-2125-4036-a67a-6027f6bbf753",
   "metadata": {},
   "outputs": [],
   "source": [
    "fig = plt.figure(figsize=(8,8)) \n",
    "ax=plt.subplot(1,1,1) \n",
    "ax.scatter(y_val, y_pred_val)  \n",
    "ax.plot(np.linspace(15,35,100), np.linspace(15,35,100), c = 'orange', linestyle='--')\n",
    "ax.set_title(\"Validation dataset: prediction vs actual deprivation value\")\n",
    "ax.set_xlabel(\"Actual values\")\n",
    "ax.set_ylabel(\"Predicted values\")\n",
    "ax.set_xlim([15,35.0])\n",
    "ax.set_ylim([15,35.0])\n",
    "\n",
    "ax.text(16, 33, \"R-squared = %0.4f\" % R2_val, fontsize=12, color = \"r\", style = \"italic\", weight = \"light\", verticalalignment='center', horizontalalignment='left')\n",
    "ax.text(16, 32, \"RMSE = %0.4f\" % rmse_val, fontsize=12, color = \"r\", style = \"italic\", weight = \"light\", verticalalignment='center', horizontalalignment='left')\n",
    "ax.text(16, 31, \"MAE = %0.4f\" % mae_val, fontsize=12, color = \"r\", style = \"italic\", weight = \"light\", verticalalignment='center', horizontalalignment='left')\n",
    "\n",
    "plt.savefig(os.path.join(results_path,'mae_val.png'), dpi = 300)\n",
    "plt.show()"
   ]
  },
  {
   "cell_type": "raw",
   "id": "1f8a74b8-647b-4e53-b8c0-949770e3df3b",
   "metadata": {},
   "source": [
    "fig = plt.figure(figsize=(8,8)) \n",
    "ax=plt.subplot(1,1,1) \n",
    "ax.scatter(y_train, y_pred_train)  \n",
    "ax.plot(np.linspace(0,1,100), np.linspace(0,1,100), c = 'orange', linestyle='--')\n",
    "ax.set_title(\"Train: prediction vs actual deprivation value\")\n",
    "ax.set_xlabel(\"Actual values\")\n",
    "ax.set_ylabel(\"Predicted values\")\n",
    "ax.set_xlim([0,1.0])\n",
    "ax.set_ylim([0,1.0])\n",
    "\n",
    "ax.text(0.2, 0.85, \"R-squared = %0.4f\" % R2_train, fontsize=12, color = \"r\", style = \"italic\", weight = \"light\", verticalalignment='center', horizontalalignment='left')\n",
    "ax.text(0.2, 0.8, \"RMSE = %0.4f\" % rmse_train, fontsize=12, color = \"r\", style = \"italic\", weight = \"light\", verticalalignment='center', horizontalalignment='left')\n",
    "ax.text(0.2, 0.75, \"MAE = %0.4f\" % mae_train, fontsize=12, color = \"r\", style = \"italic\", weight = \"light\", verticalalignment='center', horizontalalignment='left')\n",
    "\n",
    "plt.savefig(os.path.join(results_path,'mae_train.png'), dpi = 300)\n",
    "plt.show()"
   ]
  },
  {
   "cell_type": "raw",
   "id": "8f361717-1dc5-43c3-b941-c93a25e67308",
   "metadata": {},
   "source": [
    "fig = plt.figure(figsize=(8,8)) \n",
    "ax=plt.subplot(1,1,1) \n",
    "ax.scatter(y_val, y_pred_val)  \n",
    "ax.plot(np.linspace(0,1,100), np.linspace(0,1,100), c = 'orange', linestyle='--')\n",
    "ax.set_title(\"Validation dataset: prediction vs actual deprivation value\")\n",
    "ax.set_xlabel(\"Actual values\")\n",
    "ax.set_ylabel(\"Predicted values\")\n",
    "ax.set_xlim([0,1.0])\n",
    "ax.set_ylim([0,1.0])\n",
    "\n",
    "ax.text(0.2, 0.85, \"R-squared = %0.4f\" % R2_val, fontsize=12, color = \"r\", style = \"italic\", weight = \"light\", verticalalignment='center', horizontalalignment='left')\n",
    "ax.text(0.2, 0.8, \"RMSE = %0.4f\" % rmse_val, fontsize=12, color = \"r\", style = \"italic\", weight = \"light\", verticalalignment='center', horizontalalignment='left')\n",
    "ax.text(0.2, 0.75, \"MAE = %0.4f\" % mae_val, fontsize=12, color = \"r\", style = \"italic\", weight = \"light\", verticalalignment='center', horizontalalignment='left')\n",
    "\n",
    "plt.savefig(os.path.join(results_path,'mae_val.png'), dpi = 300)\n",
    "plt.show()"
   ]
  },
  {
   "cell_type": "code",
   "execution_count": null,
   "id": "f1e77c88-f78c-4faf-8f50-e69265744cc3",
   "metadata": {},
   "outputs": [],
   "source": []
  },
  {
   "cell_type": "code",
   "execution_count": null,
   "id": "15d16504-246b-4c70-b4cd-c6652bceb9c4",
   "metadata": {},
   "outputs": [],
   "source": []
  }
 ],
 "metadata": {
  "kernelspec": {
   "display_name": "Python 3",
   "language": "python",
   "name": "python3"
  },
  "language_info": {
   "codemirror_mode": {
    "name": "ipython",
    "version": 3
   },
   "file_extension": ".py",
   "mimetype": "text/x-python",
   "name": "python",
   "nbconvert_exporter": "python",
   "pygments_lexer": "ipython3",
   "version": "3.8.10"
  }
 },
 "nbformat": 4,
 "nbformat_minor": 5
}
