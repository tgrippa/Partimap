{
 "cells": [
  {
   "cell_type": "markdown",
   "id": "7dc53bde",
   "metadata": {},
   "source": [
    "# **Predicting the Multiple Deprivation Degrees from VHR Satelite Images.**"
   ]
  },
  {
   "cell_type": "markdown",
   "id": "a42fb980",
   "metadata": {},
   "source": [
    "## Intro"
   ]
  },
  {
   "cell_type": "markdown",
   "id": "0a60416b",
   "metadata": {},
   "source": [
    "This code is developed by **Eqi Luo** for his MSc Research ***'Mapping and Predicting the Multiple Deprivation Degrees at Intra-city Level.'***  \n",
    "\n",
    "In this analysis, we aim to train a CNN-based regression model, which can predict the deprivation index ranging between 0 to 1 based on the satellite image i.e., instead of following the traditional binary classification to distinguish slum/non-slum, the outcome would be a quantitative estimation of multiple deprivation level. \n",
    "\n",
    "The inputs used in this model are twofold: \n",
    "1) the SPOT satellite image of Nairobi city, 2017. Resolution = 1.5m, with 4 bands (RGB + near-infrared)\n",
    "\n",
    "2) the multiple deprivation indices(MDI) of urban built-up Nairobi at 100m grid scale, generated using Principle Component Analysis (PCA). The results have been validated/cross-discussed with previous studies and local knowledge, which should be regarded as eligible datasets for this experimental research of using RS data to predict deprivation level. \n",
    "\n",
    "Note that the MDI is a portfolio, which consists a final comprehensive deprivation scores, and 4 individual deprivation indices of the sub-domains of multiple deprivation. A summary of the 'label' were provided:\n",
    "- PC1: Accessibility to facilities, income level and maternal health support.\n",
    "- **PC2: Dense urbanization, absence of green space and waste management.** (the one that manifests the most in RS images)\n",
    "- PC3: Air and water contamination.\n",
    "- PC4: Transport infrastructure. "
   ]
  },
  {
   "cell_type": "markdown",
   "id": "7b30b8e9",
   "metadata": {
    "tags": []
   },
   "source": [
    "## 0. Import libraries\n",
    "\n",
    "Firstly, install and import the necessary libraries for this analysis."
   ]
  },
  {
   "cell_type": "code",
   "execution_count": 1,
   "id": "848979dd",
   "metadata": {},
   "outputs": [
    {
     "ename": "ModuleNotFoundError",
     "evalue": "No module named 'keras'",
     "output_type": "error",
     "traceback": [
      "\u001b[0;31m---------------------------------------------------------------------------\u001b[0m",
      "\u001b[0;31mModuleNotFoundError\u001b[0m                       Traceback (most recent call last)",
      "\u001b[0;32m/tmp/ipykernel_437150/604278628.py\u001b[0m in \u001b[0;36m<module>\u001b[0;34m\u001b[0m\n\u001b[1;32m      4\u001b[0m \u001b[0;32mimport\u001b[0m \u001b[0mglob\u001b[0m\u001b[0;34m\u001b[0m\u001b[0;34m\u001b[0m\u001b[0m\n\u001b[1;32m      5\u001b[0m \u001b[0;32mimport\u001b[0m \u001b[0mre\u001b[0m\u001b[0;34m\u001b[0m\u001b[0;34m\u001b[0m\u001b[0m\n\u001b[0;32m----> 6\u001b[0;31m \u001b[0;32mimport\u001b[0m \u001b[0mkeras\u001b[0m\u001b[0;34m\u001b[0m\u001b[0;34m\u001b[0m\u001b[0m\n\u001b[0m\u001b[1;32m      7\u001b[0m \u001b[0;32mimport\u001b[0m \u001b[0mnatsort\u001b[0m\u001b[0;34m\u001b[0m\u001b[0;34m\u001b[0m\u001b[0m\n\u001b[1;32m      8\u001b[0m \u001b[0;32mimport\u001b[0m \u001b[0msklearn\u001b[0m\u001b[0;34m\u001b[0m\u001b[0;34m\u001b[0m\u001b[0m\n",
      "\u001b[0;31mModuleNotFoundError\u001b[0m: No module named 'keras'"
     ]
    }
   ],
   "source": [
    "import numpy as np\n",
    "import os\n",
    "import pandas as pd\n",
    "import glob\n",
    "import re\n",
    "import keras\n",
    "import natsort\n",
    "import sklearn\n",
    "import tensorflow as tf\n",
    "import datetime\n",
    "import matplotlib.pyplot as plt\n",
    "\n",
    "\n",
    "from sklearn.model_selection import train_test_split\n",
    "from osgeo import gdal\n",
    "from osgeo import gdal_array\n",
    "from natsort import natsorted\n",
    "from keras.models import Sequential\n",
    "from keras.layers import Dense, Dropout, Activation, Flatten\n",
    "from keras.layers import Conv2D, MaxPooling2D, BatchNormalization\n",
    "from keras.optimizers import SGD, Adam\n",
    "from keras.callbacks import ModelCheckpoint\n",
    "from keras.callbacks import ReduceLROnPlateau\n",
    "from keras.utils import np_utils\n",
    "from keras import backend as K\n",
    "\n"
   ]
  },
  {
   "cell_type": "markdown",
   "id": "586f6eac",
   "metadata": {},
   "source": [
    "## 1. Data preparation \n",
    "\n",
    "**In this part, we load, organize and transform all the input data to the format of input for deep learning model.**"
   ]
  },
  {
   "cell_type": "markdown",
   "id": "870309d7",
   "metadata": {},
   "source": [
    "### 1.1 Loading, structuring the data"
   ]
  },
  {
   "cell_type": "code",
   "execution_count": 4,
   "id": "8d5873b8-fa66-4bdb-86d4-b64d080d5ad5",
   "metadata": {},
   "outputs": [],
   "source": [
    "a=6"
   ]
  },
  {
   "cell_type": "code",
   "execution_count": 2,
   "id": "ea965014",
   "metadata": {},
   "outputs": [],
   "source": [
    "# Define working path \n",
    "root = os.getcwd()\n",
    "image_path = os.path.join(root, \"Image tiles\")\n",
    "label_path = os.path.join(root, \"Reference label\")\n"
   ]
  },
  {
   "cell_type": "code",
   "execution_count": 3,
   "id": "0c2f75e1",
   "metadata": {},
   "outputs": [],
   "source": [
    "# Create a list of all the filenames of images\n",
    "tile_list = [x for x in os.listdir(image_path) if x.endswith(\".TIF\")]\n",
    "\n",
    "# Sort the list naturally based on the number in the filename.\n",
    "tile_list = natsorted(tile_list)\n"
   ]
  },
  {
   "cell_type": "code",
   "execution_count": 4,
   "id": "072b66f1",
   "metadata": {},
   "outputs": [
    {
     "name": "stdout",
     "output_type": "stream",
     "text": [
      "(7000, 64, 64, 4)\n"
     ]
    }
   ],
   "source": [
    "# Loop over and read all the images as numpy array, then stack them together \n",
    "stack = []\n",
    "for tile in tile_list: \n",
    "    ds = gdal.Open(image_path + os.path.sep + tile)\n",
    "    data = gdal_array.DatasetReadAsArray(ds, win_xsize=64, win_ysize=64) #here we only read 64*64 chunk of the original 65*65 image\n",
    "    data = np.transpose(data,(1,2,0)) #swap the axises to make the number of bands as the final dimension. \n",
    "    stack.append(data)\n",
    "\n",
    "# Now, change the list into numpy array \n",
    "stack = np.array(stack)\n",
    "print(stack.shape)"
   ]
  },
  {
   "cell_type": "code",
   "execution_count": 5,
   "id": "835dde55",
   "metadata": {},
   "outputs": [
    {
     "name": "stdout",
     "output_type": "stream",
     "text": [
      "uint32\n"
     ]
    }
   ],
   "source": [
    "# check the datatype of the loaded numpy arrray\n",
    "print(stack.dtype)"
   ]
  },
  {
   "cell_type": "code",
   "execution_count": 6,
   "id": "0bde214d",
   "metadata": {},
   "outputs": [
    {
     "name": "stdout",
     "output_type": "stream",
     "text": [
      "float32\n"
     ]
    }
   ],
   "source": [
    "# Convert the datatype from interger to float32! \n",
    "stack = stack.astype('float32')\n",
    "print(stack.dtype)"
   ]
  },
  {
   "cell_type": "markdown",
   "id": "d778ce95",
   "metadata": {},
   "source": [
    "**The standardization of pixel values was dropped**, given the fact that: \n",
    "- batch normalization was applied throughout the CNN model, ensuring the input for next layers always staying in a relatively same range to reduce internal covariates shift and accelerate the training. Therefore, the normalization of input was not really necessary; \n",
    "- the standardization was applied on the subsets of original images, instead of the entire dataset. So later when apply the trained model to the whole nairobi, the normalized values might be shifted as the subset&original data share the different mean, variation.  "
   ]
  },
  {
   "cell_type": "code",
   "execution_count": 7,
   "id": "309c1524",
   "metadata": {},
   "outputs": [
    {
     "name": "stdout",
     "output_type": "stream",
     "text": [
      "(7000, 64, 64, 4)\n"
     ]
    }
   ],
   "source": [
    "#def standardize(image_data):\n",
    "        #image_data -= np.mean(image_data, axis=0)\n",
    "        #image_data /= np.std(image_data, axis=0)\n",
    "        #return image_data\n",
    "\n",
    "#stack = standardize(stack)\n",
    "print(stack.shape)"
   ]
  },
  {
   "cell_type": "code",
   "execution_count": 8,
   "id": "555e9db6",
   "metadata": {},
   "outputs": [
    {
     "name": "stdout",
     "output_type": "stream",
     "text": [
      "        ID   PC1_N_1   PC2_N_1   PC3_N_1   PC4_N_1  Final_idx  gridcode\n",
      "0        0  0.424625  0.064369  0.718921  0.479331   0.423162     45546\n",
      "1        1  0.421739  0.070148  0.749208  0.444306   0.416208     45552\n",
      "2        2  0.427357  0.045825  0.705986  0.414481   0.369917     45517\n",
      "3        3  0.402702  0.065997  0.749541  0.495730   0.435842     45524\n",
      "4        4  0.358065  0.068114  0.474223  0.556850   0.349568     45492\n",
      "...    ...       ...       ...       ...       ...        ...       ...\n",
      "6995  6995  0.389289  0.096484  0.612534  0.497073   0.397501        20\n",
      "6996  6996  0.350845  0.064575  0.558015  0.496439   0.340316        30\n",
      "6997  6997  0.403495  0.142613  0.587754  0.468073   0.405277        11\n",
      "6998  6998  0.369689  0.101518  0.555754  0.490405   0.366597        13\n",
      "6999  6999  0.352305  0.092205  0.546746  0.490198   0.349815        16\n",
      "\n",
      "[7000 rows x 7 columns]\n"
     ]
    }
   ],
   "source": [
    "# Load the deprivation indices dataset and check it out\n",
    "labels = pd.read_csv(label_path+os.path.sep+'Deprivation_index.csv')\n",
    "print(labels)"
   ]
  },
  {
   "cell_type": "markdown",
   "id": "7a245ce0",
   "metadata": {},
   "source": [
    "**As a starting point, we first extract the PC2 values (Morphological deprivation indices) to train this model, because:** \n",
    "- the information on PC2 were derived from 4 main variables: population density, building density, Maximum NDVI and density of illegal dumpsite. It is the indices that most related to urban morphology, which could be partially captured by the RS images using deep learning. \n",
    "- most of the highly deprived pixels in PC2 are overlapping with the slum regions (which has been successfully detected by CNN in previous studies) "
   ]
  },
  {
   "cell_type": "code",
   "execution_count": 9,
   "id": "6bd77109",
   "metadata": {},
   "outputs": [
    {
     "name": "stdout",
     "output_type": "stream",
     "text": [
      "(7000, 1)\n",
      "float64\n",
      "[[0.06436907]\n",
      " [0.07014808]\n",
      " [0.04582458]\n",
      " ...\n",
      " [0.14261348]\n",
      " [0.10151825]\n",
      " [0.09220457]]\n"
     ]
    }
   ],
   "source": [
    "# Extract the values of PC2 and covert it to a 1-d array \n",
    "PC2_column = labels.loc[:,'PC2_N_1']\n",
    "PC2 = PC2_column.values\n",
    "\n",
    "# Now we need to reshape the 1-d array to a 2-d array \n",
    "PC2 = PC2.reshape(7000,-1)\n",
    "\n",
    "# Check the shape and datatype of reference data\n",
    "print(PC2.shape)\n",
    "print(PC2.dtype)\n",
    "print(PC2)"
   ]
  },
  {
   "cell_type": "code",
   "execution_count": 10,
   "id": "0d7173c5",
   "metadata": {},
   "outputs": [
    {
     "name": "stdout",
     "output_type": "stream",
     "text": [
      "(7000, 64, 64, 4)\n",
      "(7000, 1)\n"
     ]
    }
   ],
   "source": [
    "# Before splitting the training and test dataset, let's check again the shape of x and y. \n",
    "print(stack.shape)\n",
    "print(PC2.shape)"
   ]
  },
  {
   "cell_type": "code",
   "execution_count": 11,
   "id": "82ebb05e",
   "metadata": {},
   "outputs": [
    {
     "data": {
      "image/png": "[encoded data removed]",
      "text/plain": [
       "<Figure size 720x360 with 1 Axes>"
      ]
     },
     "metadata": {
      "needs_background": "light"
     },
     "output_type": "display_data"
    }
   ],
   "source": [
    "# print the distribution of target variables (y)\n",
    "\n",
    "fig, axs = plt.subplots(1, 1,figsize =(10, 5), tight_layout = True)\n",
    "  \n",
    "axs.hist(PC2, bins = 30, edgecolor='white', linewidth=0.5)\n",
    "  \n",
    "# Show plot\n",
    "plt.show()"
   ]
  },
  {
   "cell_type": "markdown",
   "id": "d03719b4",
   "metadata": {},
   "source": [
    "### 1.2 Splitting the input data"
   ]
  },
  {
   "cell_type": "markdown",
   "id": "b894792b",
   "metadata": {},
   "source": [
    "**Now, we split the input data into training+validation and test datasets.**\n",
    "\n",
    "the proportion of training+validation and test follows the rule of thumb, 70% vs 30%."
   ]
  },
  {
   "cell_type": "code",
   "execution_count": 12,
   "id": "d6ee699c",
   "metadata": {},
   "outputs": [
    {
     "name": "stdout",
     "output_type": "stream",
     "text": [
      "(4900, 64, 64, 4)\n",
      "(4900, 1)\n",
      "(2100, 64, 64, 4)\n",
      "(2100, 1)\n"
     ]
    }
   ],
   "source": [
    "# Split the inputs. Note that variable 'stack' is the X (imagery features), and variable 'PC2' is the Y (labels).  \n",
    "\n",
    "x_train, x_val, y_train, y_val = train_test_split(\n",
    "    stack, PC2, test_size = 0.3, random_state = 27) # specify the random state to ensure replicable output across multiple function calls.\n",
    "\n",
    "# Check the shape of each sub-dataset \n",
    "print(x_train.shape)\n",
    "print(y_train.shape)\n",
    "print(x_val.shape)\n",
    "print(y_val.shape)"
   ]
  },
  {
   "cell_type": "markdown",
   "id": "8055e220",
   "metadata": {},
   "source": [
    "## 2. Deep CNN-based Regression Model \n",
    "\n",
    "In this part, we build a VGG-like model to predict the deprivation degree.\n",
    "\n",
    "The CNN model has 4 convolution blocks and 3 fully connected layers. The details were presented below"
   ]
  },
  {
   "cell_type": "markdown",
   "id": "f2c9c146",
   "metadata": {},
   "source": [
    "### 2.1 Model Architecture Definition"
   ]
  },
  {
   "cell_type": "code",
   "execution_count": 13,
   "id": "36e4c22d",
   "metadata": {},
   "outputs": [
    {
     "name": "stdout",
     "output_type": "stream",
     "text": [
      "Model: \"sequential\"\n",
      "_________________________________________________________________\n",
      "Layer (type)                 Output Shape              Param #   \n",
      "=================================================================\n",
      "block1_conv1 (Conv2D)        (None, 64, 64, 64)        2368      \n",
      "_________________________________________________________________\n",
      "block1_bn1 (BatchNormalizati (None, 64, 64, 64)        256       \n",
      "_________________________________________________________________\n",
      "activation (Activation)      (None, 64, 64, 64)        0         \n",
      "_________________________________________________________________\n",
      "block1_conv2 (Conv2D)        (None, 64, 64, 64)        36928     \n",
      "_________________________________________________________________\n",
      "block1_bn2 (BatchNormalizati (None, 64, 64, 64)        256       \n",
      "_________________________________________________________________\n",
      "activation_1 (Activation)    (None, 64, 64, 64)        0         \n",
      "_________________________________________________________________\n",
      "block1_pool (MaxPooling2D)   (None, 32, 32, 64)        0         \n",
      "_________________________________________________________________\n",
      "block2_conv1 (Conv2D)        (None, 32, 32, 128)       73856     \n",
      "_________________________________________________________________\n",
      "block2_bn1 (BatchNormalizati (None, 32, 32, 128)       512       \n",
      "_________________________________________________________________\n",
      "activation_2 (Activation)    (None, 32, 32, 128)       0         \n",
      "_________________________________________________________________\n",
      "block2_conv2 (Conv2D)        (None, 32, 32, 128)       147584    \n",
      "_________________________________________________________________\n",
      "block2_bn2 (BatchNormalizati (None, 32, 32, 128)       512       \n",
      "_________________________________________________________________\n",
      "activation_3 (Activation)    (None, 32, 32, 128)       0         \n",
      "_________________________________________________________________\n",
      "block2_pool (MaxPooling2D)   (None, 16, 16, 128)       0         \n",
      "_________________________________________________________________\n",
      "block3_conv1 (Conv2D)        (None, 16, 16, 256)       295168    \n",
      "_________________________________________________________________\n",
      "block3_bn1 (BatchNormalizati (None, 16, 16, 256)       1024      \n",
      "_________________________________________________________________\n",
      "activation_4 (Activation)    (None, 16, 16, 256)       0         \n",
      "_________________________________________________________________\n",
      "block3_conv2 (Conv2D)        (None, 16, 16, 256)       590080    \n",
      "_________________________________________________________________\n",
      "block3_bn2 (BatchNormalizati (None, 16, 16, 256)       1024      \n",
      "_________________________________________________________________\n",
      "activation_5 (Activation)    (None, 16, 16, 256)       0         \n",
      "_________________________________________________________________\n",
      "block3_conv3 (Conv2D)        (None, 16, 16, 256)       590080    \n",
      "_________________________________________________________________\n",
      "block3_bn3 (BatchNormalizati (None, 16, 16, 256)       1024      \n",
      "_________________________________________________________________\n",
      "activation_6 (Activation)    (None, 16, 16, 256)       0         \n",
      "_________________________________________________________________\n",
      "block3_pool (MaxPooling2D)   (None, 8, 8, 256)         0         \n",
      "_________________________________________________________________\n",
      "block4_conv1 (Conv2D)        (None, 8, 8, 512)         1180160   \n",
      "_________________________________________________________________\n",
      "block4_bn1 (BatchNormalizati (None, 8, 8, 512)         2048      \n",
      "_________________________________________________________________\n",
      "activation_7 (Activation)    (None, 8, 8, 512)         0         \n",
      "_________________________________________________________________\n",
      "block4_conv2 (Conv2D)        (None, 8, 8, 512)         2359808   \n",
      "_________________________________________________________________\n",
      "block4_bn2 (BatchNormalizati (None, 8, 8, 512)         2048      \n",
      "_________________________________________________________________\n",
      "activation_8 (Activation)    (None, 8, 8, 512)         0         \n",
      "_________________________________________________________________\n",
      "block4_conv3 (Conv2D)        (None, 8, 8, 512)         2359808   \n",
      "_________________________________________________________________\n",
      "block4_bn3 (BatchNormalizati (None, 8, 8, 512)         2048      \n",
      "_________________________________________________________________\n",
      "activation_9 (Activation)    (None, 8, 8, 512)         0         \n",
      "_________________________________________________________________\n",
      "block4_pool (MaxPooling2D)   (None, 4, 4, 512)         0         \n",
      "_________________________________________________________________\n",
      "flatten (Flatten)            (None, 8192)              0         \n",
      "_________________________________________________________________\n",
      "fc1 (Dense)                  (None, 512)               4194816   \n",
      "_________________________________________________________________\n",
      "fc1_bn1 (BatchNormalization) (None, 512)               2048      \n",
      "_________________________________________________________________\n",
      "activation_10 (Activation)   (None, 512)               0         \n",
      "_________________________________________________________________\n",
      "fc2 (Dense)                  (None, 256)               131328    \n",
      "_________________________________________________________________\n",
      "fc2_bn1 (BatchNormalization) (None, 256)               1024      \n",
      "_________________________________________________________________\n",
      "activation_11 (Activation)   (None, 256)               0         \n",
      "_________________________________________________________________\n",
      "regression (Dense)           (None, 1)                 257       \n",
      "=================================================================\n",
      "Total params: 11,976,065\n",
      "Trainable params: 11,969,153\n",
      "Non-trainable params: 6,912\n",
      "_________________________________________________________________\n",
      "None\n"
     ]
    }
   ],
   "source": [
    "# Model definition \n",
    "\n",
    "input_shape = (64, 64, 4)\n",
    "\n",
    "# We build a VGG-like regression model to predict the deprivation degree \n",
    "\n",
    "def EqiModel():\n",
    "    model = Sequential()\n",
    "    \n",
    "    # block 1 \n",
    "    model.add(Conv2D(64, (3, 3), padding='same', name = 'block1_conv1', input_shape=input_shape)) #block1_conv1\n",
    "    model.add(BatchNormalization(axis=-1, name = 'block1_bn1'))\n",
    "    model.add(Activation('relu'))\n",
    "    model.add(Conv2D(64, (3, 3), padding='same', name = 'block1_conv2')) #block1_conv2 \n",
    "    model.add(BatchNormalization(axis=-1, name = 'block1_bn2'))\n",
    "    model.add(Activation('relu'))\n",
    "    model.add(MaxPooling2D(pool_size=(2, 2), name = 'block1_pool')) #block1_pool\n",
    "    \n",
    "    # block 2 \n",
    "    model.add(Conv2D(128, (3, 3), padding='same', name = 'block2_conv1')) #block2_conv1\n",
    "    model.add(BatchNormalization(axis=-1, name = 'block2_bn1'))\n",
    "    model.add(Activation('relu'))\n",
    "    model.add(Conv2D(128, (3, 3), padding='same', name = 'block2_conv2')) #block2_conv2\n",
    "    model.add(BatchNormalization(axis=-1, name = 'block2_bn2'))\n",
    "    model.add(Activation('relu'))\n",
    "    model.add(MaxPooling2D(pool_size=(2, 2), name = 'block2_pool')) #block2_pool\n",
    "    \n",
    "    \n",
    "    # block 3 \n",
    "    model.add(Conv2D(256, (3, 3), padding='same', name = 'block3_conv1')) #block3_conv1\n",
    "    model.add(BatchNormalization(axis=-1, name = 'block3_bn1'))\n",
    "    model.add(Activation('relu'))\n",
    "    model.add(Conv2D(256, (3, 3), padding='same', name = 'block3_conv2')) #block3_conv2\n",
    "    model.add(BatchNormalization(axis=-1, name = 'block3_bn2'))\n",
    "    model.add(Activation('relu'))\n",
    "    model.add(Conv2D(256, (3, 3), padding='same', name = 'block3_conv3')) #block3_conv3\n",
    "    model.add(BatchNormalization(axis=-1, name = 'block3_bn3'))\n",
    "    model.add(Activation('relu'))\n",
    "    model.add(MaxPooling2D(pool_size=(2, 2), name = 'block3_pool')) #block3_pool\n",
    "    \n",
    "    # block 4 \n",
    "    model.add(Conv2D(512, (3, 3), padding='same', name = 'block4_conv1')) #block4_conv1\n",
    "    model.add(BatchNormalization(axis=-1, name = 'block4_bn1'))\n",
    "    model.add(Activation('relu'))\n",
    "    model.add(Conv2D(512, (3, 3), padding='same', name = 'block4_conv2')) #block4_conv2\n",
    "    model.add(BatchNormalization(axis=-1, name = 'block4_bn2'))\n",
    "    model.add(Activation('relu'))\n",
    "    model.add(Conv2D(512, (3, 3), padding='same', name = 'block4_conv3')) #block4_conv3\n",
    "    model.add(BatchNormalization(axis=-1, name = 'block4_bn3'))\n",
    "    model.add(Activation('relu'))\n",
    "    model.add(MaxPooling2D(pool_size=(2, 2), name = 'block4_pool')) #block4_pool\n",
    "\n",
    "    \n",
    "    # Now to configure the fully conneceted layers \n",
    "    \n",
    "    # FC1\n",
    "    model.add(Flatten())\n",
    "    model.add(Dense(512, name = 'fc1'))\n",
    "    model.add(BatchNormalization(axis=-1, name = 'fc1_bn1'))\n",
    "    model.add(Activation('relu'))\n",
    "    #model.add(Dropout(0.25, name = 'fc1_drop1')) \n",
    "    #the dropout layers were discarded after hyper-parameter tuning!\n",
    "    \n",
    "    # FC2\n",
    "    model.add(Dense(256, name = 'fc2'))\n",
    "    model.add(BatchNormalization(axis=-1, name = 'fc2_bn1'))\n",
    "    model.add(Activation('relu'))\n",
    "    #model.add(Dropout(0.5, name = 'fc2_drop1'))\n",
    "    \n",
    "    # Regreesion layer \n",
    "    model.add(Dense(1, activation = 'sigmoid', name = 'regression'))\n",
    "    return model\n",
    "\n",
    "    \n",
    "    \n",
    "model = EqiModel()\n",
    "print(model.summary())\n"
   ]
  },
  {
   "cell_type": "markdown",
   "id": "cd9b80f5",
   "metadata": {},
   "source": [
    "### 2.2 Setting up the model"
   ]
  },
  {
   "cell_type": "code",
   "execution_count": 15,
   "id": "1afca4a4",
   "metadata": {},
   "outputs": [],
   "source": [
    "# Adam was applied as the optimizer for this model, with learning rate at 0.0001 \n",
    "\n",
    "opt = Adam(lr=1e-3)"
   ]
  },
  {
   "cell_type": "code",
   "execution_count": 16,
   "id": "d57e2e5e-bf3b-4464-9aea-912f7bdc2540",
   "metadata": {},
   "outputs": [],
   "source": [
    "# Specify the R2 calculation formula to use as an assessment metirc. \n",
    "\n",
    "def coeff_determination(y_true, y_pred):\n",
    "    from keras import backend as K\n",
    "    SS_res =  K.sum(K.square( y_true-y_pred ))\n",
    "    SS_tot = K.sum(K.square( y_true - K.mean(y_true) ) )\n",
    "    return ( 1 - SS_res/(SS_tot + K.epsilon()) )"
   ]
  },
  {
   "cell_type": "code",
   "execution_count": 17,
   "id": "b9203dd7",
   "metadata": {},
   "outputs": [],
   "source": [
    "# Compilation of the model, loss function = MAE, metircs = MAPE \n",
    "\n",
    "model.compile(loss=\"mean_absolute_error\", optimizer=opt, metrics=['mean_absolute_error','RootMeanSquaredError',coeff_determination]) "
   ]
  },
  {
   "cell_type": "code",
   "execution_count": 18,
   "id": "d239ff5d",
   "metadata": {},
   "outputs": [],
   "source": [
    "# Using checkpoint callback fucntion to save the weights that yield the best result on validation dataset. \n",
    "\n",
    "checkpoint_filepath = '/data/private/Nairobi_MSc/CNN_Model/PC2 Prediction/results_recording/model/516_mae_best_performed_model.hdf5'\n",
    "\n",
    "checkpoint = ModelCheckpoint(checkpoint_filepath, monitor='val_mean_absolute_error', verbose=1, save_best_only=True, mode='min')"
   ]
  },
  {
   "cell_type": "code",
   "execution_count": 19,
   "id": "e3df5c3f",
   "metadata": {},
   "outputs": [],
   "source": [
    "# Using 'Reduce LR on Plateau' function to let the model take smaller steps when the loss value hold on, and eventually maybe found a better optima.\n",
    "\n",
    "#Reduce = ReduceLROnPlateau(monitor='val_loss', factor=0.3, patience=20, verbose=1, mode='auto', cooldown=0, min_lr=0)"
   ]
  },
  {
   "cell_type": "markdown",
   "id": "eea6aaf9",
   "metadata": {},
   "source": [
    "### 2.3 Training the model"
   ]
  },
  {
   "cell_type": "markdown",
   "id": "8b0ec29d",
   "metadata": {},
   "source": [
    "Note that the batch size was set to 128 after hyper-parameter tuning. \n",
    "\n",
    "Within the 'training+validation' datasets, 70% were used to train the model and 30% were used for validation. \n"
   ]
  },
  {
   "cell_type": "code",
   "execution_count": 20,
   "id": "7be04337",
   "metadata": {},
   "outputs": [
    {
     "name": "stdout",
     "output_type": "stream",
     "text": [
      "Epoch 1/80\n",
      "154/154 [==============================] - 40s 185ms/step - loss: 0.1116 - mean_absolute_error: 0.1116 - root_mean_squared_error: 0.1862 - coeff_determination: -4.3532 - val_loss: 0.2422 - val_mean_absolute_error: 0.2422 - val_root_mean_squared_error: 0.3304 - val_coeff_determination: -11.4752\n",
      "\n",
      "Epoch 00001: val_mean_absolute_error improved from inf to 0.24220, saving model to /data/private/Nairobi_MSc/CNN_Model/PC2 Prediction/results_recording/model/516_mae_best_performed_model.hdf5\n",
      "Epoch 2/80\n",
      "154/154 [==============================] - 24s 154ms/step - loss: 0.0643 - mean_absolute_error: 0.0643 - root_mean_squared_error: 0.0924 - coeff_determination: 0.0258 - val_loss: 0.2404 - val_mean_absolute_error: 0.2404 - val_root_mean_squared_error: 0.2560 - val_coeff_determination: -6.8388\n",
      "\n",
      "Epoch 00002: val_mean_absolute_error improved from 0.24220 to 0.24040, saving model to /data/private/Nairobi_MSc/CNN_Model/PC2 Prediction/results_recording/model/516_mae_best_performed_model.hdf5\n",
      "Epoch 3/80\n",
      "154/154 [==============================] - 24s 154ms/step - loss: 0.0616 - mean_absolute_error: 0.0616 - root_mean_squared_error: 0.0886 - coeff_determination: 0.0909 - val_loss: 0.1002 - val_mean_absolute_error: 0.1002 - val_root_mean_squared_error: 0.1282 - val_coeff_determination: -0.7784\n",
      "\n",
      "Epoch 00003: val_mean_absolute_error improved from 0.24040 to 0.10015, saving model to /data/private/Nairobi_MSc/CNN_Model/PC2 Prediction/results_recording/model/516_mae_best_performed_model.hdf5\n",
      "Epoch 4/80\n",
      "154/154 [==============================] - 24s 154ms/step - loss: 0.0563 - mean_absolute_error: 0.0563 - root_mean_squared_error: 0.0821 - coeff_determination: 0.2596 - val_loss: 0.1249 - val_mean_absolute_error: 0.1249 - val_root_mean_squared_error: 0.1553 - val_coeff_determination: -1.6397\n",
      "\n",
      "Epoch 00004: val_mean_absolute_error did not improve from 0.10015\n",
      "Epoch 5/80\n",
      "154/154 [==============================] - 24s 154ms/step - loss: 0.0519 - mean_absolute_error: 0.0519 - root_mean_squared_error: 0.0725 - coeff_determination: 0.3288 - val_loss: 0.0626 - val_mean_absolute_error: 0.0626 - val_root_mean_squared_error: 0.0870 - val_coeff_determination: 0.1880\n",
      "\n",
      "Epoch 00005: val_mean_absolute_error improved from 0.10015 to 0.06260, saving model to /data/private/Nairobi_MSc/CNN_Model/PC2 Prediction/results_recording/model/516_mae_best_performed_model.hdf5\n",
      "Epoch 6/80\n",
      "154/154 [==============================] - 24s 153ms/step - loss: 0.0513 - mean_absolute_error: 0.0513 - root_mean_squared_error: 0.0742 - coeff_determination: 0.3780 - val_loss: 0.0549 - val_mean_absolute_error: 0.0549 - val_root_mean_squared_error: 0.0771 - val_coeff_determination: 0.3309\n",
      "\n",
      "Epoch 00006: val_mean_absolute_error improved from 0.06260 to 0.05490, saving model to /data/private/Nairobi_MSc/CNN_Model/PC2 Prediction/results_recording/model/516_mae_best_performed_model.hdf5\n",
      "Epoch 7/80\n",
      "154/154 [==============================] - 24s 154ms/step - loss: 0.0530 - mean_absolute_error: 0.0530 - root_mean_squared_error: 0.0749 - coeff_determination: 0.2949 - val_loss: 0.0546 - val_mean_absolute_error: 0.0546 - val_root_mean_squared_error: 0.0783 - val_coeff_determination: 0.3175\n",
      "\n",
      "Epoch 00007: val_mean_absolute_error improved from 0.05490 to 0.05460, saving model to /data/private/Nairobi_MSc/CNN_Model/PC2 Prediction/results_recording/model/516_mae_best_performed_model.hdf5\n",
      "Epoch 8/80\n",
      "154/154 [==============================] - 24s 153ms/step - loss: 0.0488 - mean_absolute_error: 0.0488 - root_mean_squared_error: 0.0693 - coeff_determination: 0.4283 - val_loss: 0.0797 - val_mean_absolute_error: 0.0797 - val_root_mean_squared_error: 0.1143 - val_coeff_determination: -0.3366\n",
      "\n",
      "Epoch 00008: val_mean_absolute_error did not improve from 0.05460\n",
      "Epoch 9/80\n",
      "154/154 [==============================] - 24s 153ms/step - loss: 0.0485 - mean_absolute_error: 0.0485 - root_mean_squared_error: 0.0690 - coeff_determination: 0.4154 - val_loss: 0.0755 - val_mean_absolute_error: 0.0755 - val_root_mean_squared_error: 0.1137 - val_coeff_determination: -0.3162\n",
      "\n",
      "Epoch 00009: val_mean_absolute_error did not improve from 0.05460\n",
      "Epoch 10/80\n",
      "154/154 [==============================] - 24s 153ms/step - loss: 0.0485 - mean_absolute_error: 0.0485 - root_mean_squared_error: 0.0683 - coeff_determination: 0.4546 - val_loss: 0.0545 - val_mean_absolute_error: 0.0545 - val_root_mean_squared_error: 0.0715 - val_coeff_determination: 0.4633\n",
      "\n",
      "Epoch 00010: val_mean_absolute_error improved from 0.05460 to 0.05452, saving model to /data/private/Nairobi_MSc/CNN_Model/PC2 Prediction/results_recording/model/516_mae_best_performed_model.hdf5\n",
      "Epoch 11/80\n",
      "154/154 [==============================] - 24s 153ms/step - loss: 0.0471 - mean_absolute_error: 0.0471 - root_mean_squared_error: 0.0667 - coeff_determination: 0.4947 - val_loss: 0.0913 - val_mean_absolute_error: 0.0913 - val_root_mean_squared_error: 0.1161 - val_coeff_determination: -0.4780\n",
      "\n",
      "Epoch 00011: val_mean_absolute_error did not improve from 0.05452\n",
      "Epoch 12/80\n",
      "154/154 [==============================] - 24s 154ms/step - loss: 0.0516 - mean_absolute_error: 0.0516 - root_mean_squared_error: 0.0730 - coeff_determination: 0.3709 - val_loss: 0.0677 - val_mean_absolute_error: 0.0677 - val_root_mean_squared_error: 0.0880 - val_coeff_determination: 0.1338\n",
      "\n",
      "Epoch 00012: val_mean_absolute_error did not improve from 0.05452\n",
      "Epoch 13/80\n",
      "154/154 [==============================] - 24s 153ms/step - loss: 0.0500 - mean_absolute_error: 0.0500 - root_mean_squared_error: 0.0712 - coeff_determination: 0.4499 - val_loss: 0.0539 - val_mean_absolute_error: 0.0539 - val_root_mean_squared_error: 0.0745 - val_coeff_determination: 0.3902\n",
      "\n",
      "Epoch 00013: val_mean_absolute_error improved from 0.05452 to 0.05392, saving model to /data/private/Nairobi_MSc/CNN_Model/PC2 Prediction/results_recording/model/516_mae_best_performed_model.hdf5\n",
      "Epoch 14/80\n",
      "154/154 [==============================] - 24s 154ms/step - loss: 0.0488 - mean_absolute_error: 0.0488 - root_mean_squared_error: 0.0680 - coeff_determination: 0.4412 - val_loss: 0.0506 - val_mean_absolute_error: 0.0506 - val_root_mean_squared_error: 0.0730 - val_coeff_determination: 0.4485\n",
      "\n",
      "Epoch 00014: val_mean_absolute_error improved from 0.05392 to 0.05063, saving model to /data/private/Nairobi_MSc/CNN_Model/PC2 Prediction/results_recording/model/516_mae_best_performed_model.hdf5\n",
      "Epoch 15/80\n",
      "154/154 [==============================] - 24s 153ms/step - loss: 0.0461 - mean_absolute_error: 0.0461 - root_mean_squared_error: 0.0637 - coeff_determination: 0.4894 - val_loss: 0.0579 - val_mean_absolute_error: 0.0579 - val_root_mean_squared_error: 0.0844 - val_coeff_determination: 0.2642\n",
      "\n",
      "Epoch 00015: val_mean_absolute_error did not improve from 0.05063\n",
      "Epoch 16/80\n",
      "154/154 [==============================] - 24s 154ms/step - loss: 0.0470 - mean_absolute_error: 0.0470 - root_mean_squared_error: 0.0664 - coeff_determination: 0.4894 - val_loss: 0.0749 - val_mean_absolute_error: 0.0749 - val_root_mean_squared_error: 0.1009 - val_coeff_determination: -0.0851\n",
      "\n",
      "Epoch 00016: val_mean_absolute_error did not improve from 0.05063\n",
      "Epoch 17/80\n",
      "154/154 [==============================] - 24s 154ms/step - loss: 0.0457 - mean_absolute_error: 0.0457 - root_mean_squared_error: 0.0640 - coeff_determination: 0.5017 - val_loss: 0.0575 - val_mean_absolute_error: 0.0575 - val_root_mean_squared_error: 0.0868 - val_coeff_determination: 0.2445\n",
      "\n",
      "Epoch 00017: val_mean_absolute_error did not improve from 0.05063\n",
      "Epoch 18/80\n",
      "154/154 [==============================] - 24s 154ms/step - loss: 0.0456 - mean_absolute_error: 0.0456 - root_mean_squared_error: 0.0648 - coeff_determination: 0.5043 - val_loss: 0.0604 - val_mean_absolute_error: 0.0604 - val_root_mean_squared_error: 0.0777 - val_coeff_determination: 0.3203\n",
      "\n",
      "Epoch 00018: val_mean_absolute_error did not improve from 0.05063\n",
      "Epoch 19/80\n",
      "154/154 [==============================] - 24s 154ms/step - loss: 0.0466 - mean_absolute_error: 0.0466 - root_mean_squared_error: 0.0682 - coeff_determination: 0.5182 - val_loss: 0.0539 - val_mean_absolute_error: 0.0539 - val_root_mean_squared_error: 0.0706 - val_coeff_determination: 0.4472\n",
      "\n",
      "Epoch 00019: val_mean_absolute_error did not improve from 0.05063\n",
      "Epoch 20/80\n",
      "154/154 [==============================] - 24s 154ms/step - loss: 0.0468 - mean_absolute_error: 0.0468 - root_mean_squared_error: 0.0661 - coeff_determination: 0.4947 - val_loss: 0.0537 - val_mean_absolute_error: 0.0537 - val_root_mean_squared_error: 0.0731 - val_coeff_determination: 0.3882\n",
      "\n",
      "Epoch 00020: val_mean_absolute_error did not improve from 0.05063\n",
      "Epoch 21/80\n",
      "154/154 [==============================] - 24s 154ms/step - loss: 0.0433 - mean_absolute_error: 0.0433 - root_mean_squared_error: 0.0606 - coeff_determination: 0.5825 - val_loss: 0.0524 - val_mean_absolute_error: 0.0524 - val_root_mean_squared_error: 0.0697 - val_coeff_determination: 0.4578\n",
      "\n",
      "Epoch 00021: val_mean_absolute_error did not improve from 0.05063\n",
      "Epoch 22/80\n",
      "154/154 [==============================] - 24s 154ms/step - loss: 0.0443 - mean_absolute_error: 0.0443 - root_mean_squared_error: 0.0620 - coeff_determination: 0.5109 - val_loss: 0.0457 - val_mean_absolute_error: 0.0457 - val_root_mean_squared_error: 0.0642 - val_coeff_determination: 0.5746\n",
      "\n",
      "Epoch 00022: val_mean_absolute_error improved from 0.05063 to 0.04566, saving model to /data/private/Nairobi_MSc/CNN_Model/PC2 Prediction/results_recording/model/516_mae_best_performed_model.hdf5\n",
      "Epoch 23/80\n",
      "154/154 [==============================] - 24s 154ms/step - loss: 0.0442 - mean_absolute_error: 0.0442 - root_mean_squared_error: 0.0612 - coeff_determination: 0.5679 - val_loss: 0.0560 - val_mean_absolute_error: 0.0560 - val_root_mean_squared_error: 0.0836 - val_coeff_determination: 0.2881\n",
      "\n",
      "Epoch 00023: val_mean_absolute_error did not improve from 0.04566\n",
      "Epoch 24/80\n",
      "154/154 [==============================] - 24s 154ms/step - loss: 0.0452 - mean_absolute_error: 0.0452 - root_mean_squared_error: 0.0643 - coeff_determination: 0.4628 - val_loss: 0.0484 - val_mean_absolute_error: 0.0484 - val_root_mean_squared_error: 0.0658 - val_coeff_determination: 0.5301\n",
      "\n",
      "Epoch 00024: val_mean_absolute_error did not improve from 0.04566\n",
      "Epoch 25/80\n",
      "154/154 [==============================] - 24s 153ms/step - loss: 0.0441 - mean_absolute_error: 0.0441 - root_mean_squared_error: 0.0626 - coeff_determination: 0.5553 - val_loss: 0.0518 - val_mean_absolute_error: 0.0518 - val_root_mean_squared_error: 0.0678 - val_coeff_determination: 0.5012\n",
      "\n",
      "Epoch 00025: val_mean_absolute_error did not improve from 0.04566\n",
      "Epoch 26/80\n",
      "154/154 [==============================] - 24s 153ms/step - loss: 0.0444 - mean_absolute_error: 0.0444 - root_mean_squared_error: 0.0640 - coeff_determination: 0.5265 - val_loss: 0.0593 - val_mean_absolute_error: 0.0593 - val_root_mean_squared_error: 0.0903 - val_coeff_determination: 0.1745\n",
      "\n",
      "Epoch 00026: val_mean_absolute_error did not improve from 0.04566\n",
      "Epoch 27/80\n",
      "154/154 [==============================] - 24s 154ms/step - loss: 0.0424 - mean_absolute_error: 0.0424 - root_mean_squared_error: 0.0616 - coeff_determination: 0.5780 - val_loss: 0.0724 - val_mean_absolute_error: 0.0724 - val_root_mean_squared_error: 0.1055 - val_coeff_determination: -0.1577\n",
      "\n",
      "Epoch 00027: val_mean_absolute_error did not improve from 0.04566\n",
      "Epoch 28/80\n",
      "154/154 [==============================] - 24s 153ms/step - loss: 0.0433 - mean_absolute_error: 0.0433 - root_mean_squared_error: 0.0612 - coeff_determination: 0.5536 - val_loss: 0.0529 - val_mean_absolute_error: 0.0529 - val_root_mean_squared_error: 0.0793 - val_coeff_determination: 0.3640\n",
      "\n",
      "Epoch 00028: val_mean_absolute_error did not improve from 0.04566\n",
      "Epoch 29/80\n",
      "154/154 [==============================] - 24s 153ms/step - loss: 0.0434 - mean_absolute_error: 0.0434 - root_mean_squared_error: 0.0618 - coeff_determination: 0.5522 - val_loss: 0.0491 - val_mean_absolute_error: 0.0491 - val_root_mean_squared_error: 0.0722 - val_coeff_determination: 0.4566\n",
      "\n",
      "Epoch 00029: val_mean_absolute_error did not improve from 0.04566\n",
      "Epoch 30/80\n",
      "154/154 [==============================] - 24s 153ms/step - loss: 0.0425 - mean_absolute_error: 0.0425 - root_mean_squared_error: 0.0599 - coeff_determination: 0.5830 - val_loss: 0.0629 - val_mean_absolute_error: 0.0629 - val_root_mean_squared_error: 0.0846 - val_coeff_determination: 0.1609\n",
      "\n",
      "Epoch 00030: val_mean_absolute_error did not improve from 0.04566\n",
      "Epoch 31/80\n",
      "154/154 [==============================] - 24s 153ms/step - loss: 0.0447 - mean_absolute_error: 0.0447 - root_mean_squared_error: 0.0618 - coeff_determination: 0.5371 - val_loss: 0.0435 - val_mean_absolute_error: 0.0435 - val_root_mean_squared_error: 0.0622 - val_coeff_determination: 0.5996\n",
      "\n",
      "Epoch 00031: val_mean_absolute_error improved from 0.04566 to 0.04353, saving model to /data/private/Nairobi_MSc/CNN_Model/PC2 Prediction/results_recording/model/516_mae_best_performed_model.hdf5\n",
      "Epoch 32/80\n",
      "154/154 [==============================] - 24s 154ms/step - loss: 0.0443 - mean_absolute_error: 0.0443 - root_mean_squared_error: 0.0621 - coeff_determination: 0.5639 - val_loss: 0.0782 - val_mean_absolute_error: 0.0782 - val_root_mean_squared_error: 0.1104 - val_coeff_determination: -0.2732\n",
      "\n",
      "Epoch 00032: val_mean_absolute_error did not improve from 0.04353\n",
      "Epoch 33/80\n",
      "154/154 [==============================] - 24s 153ms/step - loss: 0.0431 - mean_absolute_error: 0.0431 - root_mean_squared_error: 0.0601 - coeff_determination: 0.5605 - val_loss: 0.0539 - val_mean_absolute_error: 0.0539 - val_root_mean_squared_error: 0.0745 - val_coeff_determination: 0.4084\n",
      "\n",
      "Epoch 00033: val_mean_absolute_error did not improve from 0.04353\n",
      "Epoch 34/80\n",
      "154/154 [==============================] - 24s 153ms/step - loss: 0.0442 - mean_absolute_error: 0.0442 - root_mean_squared_error: 0.0639 - coeff_determination: 0.5577 - val_loss: 0.0489 - val_mean_absolute_error: 0.0489 - val_root_mean_squared_error: 0.0666 - val_coeff_determination: 0.5353\n",
      "\n",
      "Epoch 00034: val_mean_absolute_error did not improve from 0.04353\n",
      "Epoch 35/80\n",
      "154/154 [==============================] - 24s 153ms/step - loss: 0.0442 - mean_absolute_error: 0.0442 - root_mean_squared_error: 0.0617 - coeff_determination: 0.5402 - val_loss: 0.0622 - val_mean_absolute_error: 0.0622 - val_root_mean_squared_error: 0.0868 - val_coeff_determination: 0.1155\n",
      "\n",
      "Epoch 00035: val_mean_absolute_error did not improve from 0.04353\n",
      "Epoch 36/80\n",
      "154/154 [==============================] - 24s 154ms/step - loss: 0.0429 - mean_absolute_error: 0.0429 - root_mean_squared_error: 0.0586 - coeff_determination: 0.5640 - val_loss: 0.0546 - val_mean_absolute_error: 0.0546 - val_root_mean_squared_error: 0.0789 - val_coeff_determination: 0.3408\n",
      "\n",
      "Epoch 00036: val_mean_absolute_error did not improve from 0.04353\n",
      "Epoch 37/80\n",
      "154/154 [==============================] - 24s 153ms/step - loss: 0.0423 - mean_absolute_error: 0.0423 - root_mean_squared_error: 0.0595 - coeff_determination: 0.5416 - val_loss: 0.0467 - val_mean_absolute_error: 0.0467 - val_root_mean_squared_error: 0.0639 - val_coeff_determination: 0.5424\n",
      "\n",
      "Epoch 00037: val_mean_absolute_error did not improve from 0.04353\n",
      "Epoch 38/80\n",
      "154/154 [==============================] - 24s 153ms/step - loss: 0.0427 - mean_absolute_error: 0.0427 - root_mean_squared_error: 0.0603 - coeff_determination: 0.5544 - val_loss: 0.0531 - val_mean_absolute_error: 0.0531 - val_root_mean_squared_error: 0.0769 - val_coeff_determination: 0.3913\n",
      "\n",
      "Epoch 00038: val_mean_absolute_error did not improve from 0.04353\n",
      "Epoch 39/80\n",
      "154/154 [==============================] - 24s 154ms/step - loss: 0.0415 - mean_absolute_error: 0.0415 - root_mean_squared_error: 0.0574 - coeff_determination: 0.5995 - val_loss: 0.0560 - val_mean_absolute_error: 0.0560 - val_root_mean_squared_error: 0.0730 - val_coeff_determination: 0.3799\n",
      "\n",
      "Epoch 00039: val_mean_absolute_error did not improve from 0.04353\n",
      "Epoch 40/80\n",
      "154/154 [==============================] - 24s 154ms/step - loss: 0.0425 - mean_absolute_error: 0.0425 - root_mean_squared_error: 0.0597 - coeff_determination: 0.5628 - val_loss: 0.0562 - val_mean_absolute_error: 0.0562 - val_root_mean_squared_error: 0.0826 - val_coeff_determination: 0.3050\n",
      "\n",
      "Epoch 00040: val_mean_absolute_error did not improve from 0.04353\n",
      "Epoch 41/80\n",
      "154/154 [==============================] - 24s 153ms/step - loss: 0.0414 - mean_absolute_error: 0.0414 - root_mean_squared_error: 0.0593 - coeff_determination: 0.6066 - val_loss: 0.0506 - val_mean_absolute_error: 0.0506 - val_root_mean_squared_error: 0.0689 - val_coeff_determination: 0.4529\n",
      "\n",
      "Epoch 00041: val_mean_absolute_error did not improve from 0.04353\n",
      "Epoch 42/80\n",
      "154/154 [==============================] - 24s 154ms/step - loss: 0.0422 - mean_absolute_error: 0.0422 - root_mean_squared_error: 0.0597 - coeff_determination: 0.5678 - val_loss: 0.0485 - val_mean_absolute_error: 0.0485 - val_root_mean_squared_error: 0.0669 - val_coeff_determination: 0.4847\n",
      "\n",
      "Epoch 00042: val_mean_absolute_error did not improve from 0.04353\n",
      "Epoch 43/80\n",
      "154/154 [==============================] - 24s 154ms/step - loss: 0.0429 - mean_absolute_error: 0.0429 - root_mean_squared_error: 0.0596 - coeff_determination: 0.5391 - val_loss: 0.0556 - val_mean_absolute_error: 0.0556 - val_root_mean_squared_error: 0.0816 - val_coeff_determination: 0.3026\n",
      "\n",
      "Epoch 00043: val_mean_absolute_error did not improve from 0.04353\n",
      "Epoch 44/80\n",
      "154/154 [==============================] - 24s 153ms/step - loss: 0.0425 - mean_absolute_error: 0.0425 - root_mean_squared_error: 0.0612 - coeff_determination: 0.5813 - val_loss: 0.0455 - val_mean_absolute_error: 0.0455 - val_root_mean_squared_error: 0.0652 - val_coeff_determination: 0.5543\n",
      "\n",
      "Epoch 00044: val_mean_absolute_error did not improve from 0.04353\n",
      "Epoch 45/80\n",
      "154/154 [==============================] - 24s 153ms/step - loss: 0.0422 - mean_absolute_error: 0.0422 - root_mean_squared_error: 0.0586 - coeff_determination: 0.5738 - val_loss: 0.0772 - val_mean_absolute_error: 0.0772 - val_root_mean_squared_error: 0.1034 - val_coeff_determination: -0.1596\n",
      "\n",
      "Epoch 00045: val_mean_absolute_error did not improve from 0.04353\n",
      "Epoch 46/80\n",
      "154/154 [==============================] - 24s 153ms/step - loss: 0.0431 - mean_absolute_error: 0.0431 - root_mean_squared_error: 0.0598 - coeff_determination: 0.5547 - val_loss: 0.0523 - val_mean_absolute_error: 0.0523 - val_root_mean_squared_error: 0.0787 - val_coeff_determination: 0.3638\n",
      "\n",
      "Epoch 00046: val_mean_absolute_error did not improve from 0.04353\n",
      "Epoch 47/80\n",
      "154/154 [==============================] - 24s 153ms/step - loss: 0.0418 - mean_absolute_error: 0.0418 - root_mean_squared_error: 0.0588 - coeff_determination: 0.6008 - val_loss: 0.0443 - val_mean_absolute_error: 0.0443 - val_root_mean_squared_error: 0.0636 - val_coeff_determination: 0.5723\n",
      "\n",
      "Epoch 00047: val_mean_absolute_error did not improve from 0.04353\n",
      "Epoch 48/80\n",
      "154/154 [==============================] - 24s 154ms/step - loss: 0.0417 - mean_absolute_error: 0.0417 - root_mean_squared_error: 0.0584 - coeff_determination: 0.5870 - val_loss: 0.0604 - val_mean_absolute_error: 0.0604 - val_root_mean_squared_error: 0.0908 - val_coeff_determination: 0.1510\n",
      "\n",
      "Epoch 00048: val_mean_absolute_error did not improve from 0.04353\n",
      "Epoch 49/80\n",
      "154/154 [==============================] - 24s 154ms/step - loss: 0.0390 - mean_absolute_error: 0.0390 - root_mean_squared_error: 0.0544 - coeff_determination: 0.6412 - val_loss: 0.0423 - val_mean_absolute_error: 0.0423 - val_root_mean_squared_error: 0.0591 - val_coeff_determination: 0.6192\n",
      "\n",
      "Epoch 00049: val_mean_absolute_error improved from 0.04353 to 0.04227, saving model to /data/private/Nairobi_MSc/CNN_Model/PC2 Prediction/results_recording/model/516_mae_best_performed_model.hdf5\n",
      "Epoch 50/80\n",
      "154/154 [==============================] - 24s 153ms/step - loss: 0.0392 - mean_absolute_error: 0.0392 - root_mean_squared_error: 0.0560 - coeff_determination: 0.6410 - val_loss: 0.0485 - val_mean_absolute_error: 0.0485 - val_root_mean_squared_error: 0.0638 - val_coeff_determination: 0.5484\n",
      "\n",
      "Epoch 00050: val_mean_absolute_error did not improve from 0.04227\n",
      "Epoch 51/80\n",
      "154/154 [==============================] - 24s 154ms/step - loss: 0.0404 - mean_absolute_error: 0.0404 - root_mean_squared_error: 0.0582 - coeff_determination: 0.6001 - val_loss: 0.0479 - val_mean_absolute_error: 0.0479 - val_root_mean_squared_error: 0.0671 - val_coeff_determination: 0.4826\n",
      "\n",
      "Epoch 00051: val_mean_absolute_error did not improve from 0.04227\n",
      "Epoch 52/80\n",
      "154/154 [==============================] - 24s 153ms/step - loss: 0.0397 - mean_absolute_error: 0.0397 - root_mean_squared_error: 0.0558 - coeff_determination: 0.6281 - val_loss: 0.0507 - val_mean_absolute_error: 0.0507 - val_root_mean_squared_error: 0.0749 - val_coeff_determination: 0.4272\n",
      "\n",
      "Epoch 00052: val_mean_absolute_error did not improve from 0.04227\n",
      "Epoch 53/80\n",
      "154/154 [==============================] - 24s 153ms/step - loss: 0.0381 - mean_absolute_error: 0.0381 - root_mean_squared_error: 0.0538 - coeff_determination: 0.6121 - val_loss: 0.0461 - val_mean_absolute_error: 0.0461 - val_root_mean_squared_error: 0.0631 - val_coeff_determination: 0.5800\n",
      "\n",
      "Epoch 00053: val_mean_absolute_error did not improve from 0.04227\n",
      "Epoch 54/80\n",
      "154/154 [==============================] - 24s 154ms/step - loss: 0.0389 - mean_absolute_error: 0.0389 - root_mean_squared_error: 0.0549 - coeff_determination: 0.6456 - val_loss: 0.0547 - val_mean_absolute_error: 0.0547 - val_root_mean_squared_error: 0.0754 - val_coeff_determination: 0.3384\n",
      "\n",
      "Epoch 00054: val_mean_absolute_error did not improve from 0.04227\n",
      "Epoch 55/80\n",
      "154/154 [==============================] - 24s 153ms/step - loss: 0.0384 - mean_absolute_error: 0.0384 - root_mean_squared_error: 0.0536 - coeff_determination: 0.6283 - val_loss: 0.0465 - val_mean_absolute_error: 0.0465 - val_root_mean_squared_error: 0.0660 - val_coeff_determination: 0.5309\n",
      "\n",
      "Epoch 00055: val_mean_absolute_error did not improve from 0.04227\n",
      "Epoch 56/80\n",
      "154/154 [==============================] - 24s 154ms/step - loss: 0.0380 - mean_absolute_error: 0.0380 - root_mean_squared_error: 0.0544 - coeff_determination: 0.6632 - val_loss: 0.0473 - val_mean_absolute_error: 0.0473 - val_root_mean_squared_error: 0.0642 - val_coeff_determination: 0.5413\n",
      "\n",
      "Epoch 00056: val_mean_absolute_error did not improve from 0.04227\n",
      "Epoch 57/80\n",
      "154/154 [==============================] - 24s 154ms/step - loss: 0.0374 - mean_absolute_error: 0.0374 - root_mean_squared_error: 0.0526 - coeff_determination: 0.6806 - val_loss: 0.0515 - val_mean_absolute_error: 0.0515 - val_root_mean_squared_error: 0.0670 - val_coeff_determination: 0.4906\n",
      "\n",
      "Epoch 00057: val_mean_absolute_error did not improve from 0.04227\n",
      "Epoch 58/80\n",
      "154/154 [==============================] - 24s 153ms/step - loss: 0.0365 - mean_absolute_error: 0.0365 - root_mean_squared_error: 0.0510 - coeff_determination: 0.6764 - val_loss: 0.0536 - val_mean_absolute_error: 0.0536 - val_root_mean_squared_error: 0.0809 - val_coeff_determination: 0.3353\n",
      "\n",
      "Epoch 00058: val_mean_absolute_error did not improve from 0.04227\n",
      "Epoch 59/80\n",
      "154/154 [==============================] - 24s 153ms/step - loss: 0.0373 - mean_absolute_error: 0.0373 - root_mean_squared_error: 0.0521 - coeff_determination: 0.6872 - val_loss: 0.0444 - val_mean_absolute_error: 0.0444 - val_root_mean_squared_error: 0.0623 - val_coeff_determination: 0.5711\n",
      "\n",
      "Epoch 00059: val_mean_absolute_error did not improve from 0.04227\n",
      "Epoch 60/80\n",
      "154/154 [==============================] - 24s 153ms/step - loss: 0.0365 - mean_absolute_error: 0.0365 - root_mean_squared_error: 0.0519 - coeff_determination: 0.6940 - val_loss: 0.0479 - val_mean_absolute_error: 0.0479 - val_root_mean_squared_error: 0.0697 - val_coeff_determination: 0.4990\n",
      "\n",
      "Epoch 00060: val_mean_absolute_error did not improve from 0.04227\n",
      "Epoch 61/80\n",
      "154/154 [==============================] - 24s 154ms/step - loss: 0.0358 - mean_absolute_error: 0.0358 - root_mean_squared_error: 0.0491 - coeff_determination: 0.7068 - val_loss: 0.0445 - val_mean_absolute_error: 0.0445 - val_root_mean_squared_error: 0.0617 - val_coeff_determination: 0.5615\n",
      "\n",
      "Epoch 00061: val_mean_absolute_error did not improve from 0.04227\n",
      "Epoch 62/80\n",
      "154/154 [==============================] - 24s 154ms/step - loss: 0.0345 - mean_absolute_error: 0.0345 - root_mean_squared_error: 0.0478 - coeff_determination: 0.7016 - val_loss: 0.0653 - val_mean_absolute_error: 0.0653 - val_root_mean_squared_error: 0.0935 - val_coeff_determination: -0.0333\n",
      "\n",
      "Epoch 00062: val_mean_absolute_error did not improve from 0.04227\n",
      "Epoch 63/80\n",
      "154/154 [==============================] - 24s 153ms/step - loss: 0.0338 - mean_absolute_error: 0.0338 - root_mean_squared_error: 0.0467 - coeff_determination: 0.7366 - val_loss: 0.0471 - val_mean_absolute_error: 0.0471 - val_root_mean_squared_error: 0.0642 - val_coeff_determination: 0.5316\n",
      "\n",
      "Epoch 00063: val_mean_absolute_error did not improve from 0.04227\n",
      "Epoch 64/80\n",
      "154/154 [==============================] - 24s 154ms/step - loss: 0.0346 - mean_absolute_error: 0.0346 - root_mean_squared_error: 0.0487 - coeff_determination: 0.7264 - val_loss: 0.0466 - val_mean_absolute_error: 0.0466 - val_root_mean_squared_error: 0.0628 - val_coeff_determination: 0.5597\n",
      "\n",
      "Epoch 00064: val_mean_absolute_error did not improve from 0.04227\n",
      "Epoch 65/80\n",
      "154/154 [==============================] - 24s 153ms/step - loss: 0.0330 - mean_absolute_error: 0.0330 - root_mean_squared_error: 0.0455 - coeff_determination: 0.7425 - val_loss: 0.0549 - val_mean_absolute_error: 0.0549 - val_root_mean_squared_error: 0.0796 - val_coeff_determination: 0.3353\n",
      "\n",
      "Epoch 00065: val_mean_absolute_error did not improve from 0.04227\n",
      "Epoch 66/80\n",
      "154/154 [==============================] - 24s 153ms/step - loss: 0.0331 - mean_absolute_error: 0.0331 - root_mean_squared_error: 0.0467 - coeff_determination: 0.7305 - val_loss: 0.0562 - val_mean_absolute_error: 0.0562 - val_root_mean_squared_error: 0.0835 - val_coeff_determination: 0.2894\n",
      "\n",
      "Epoch 00066: val_mean_absolute_error did not improve from 0.04227\n",
      "Epoch 67/80\n",
      "154/154 [==============================] - 24s 154ms/step - loss: 0.0321 - mean_absolute_error: 0.0321 - root_mean_squared_error: 0.0451 - coeff_determination: 0.7581 - val_loss: 0.0544 - val_mean_absolute_error: 0.0544 - val_root_mean_squared_error: 0.0772 - val_coeff_determination: 0.3719\n",
      "\n",
      "Epoch 00067: val_mean_absolute_error did not improve from 0.04227\n",
      "Epoch 68/80\n",
      "154/154 [==============================] - 24s 153ms/step - loss: 0.0330 - mean_absolute_error: 0.0330 - root_mean_squared_error: 0.0460 - coeff_determination: 0.7480 - val_loss: 0.0500 - val_mean_absolute_error: 0.0500 - val_root_mean_squared_error: 0.0677 - val_coeff_determination: 0.4643\n",
      "\n",
      "Epoch 00068: val_mean_absolute_error did not improve from 0.04227\n",
      "Epoch 69/80\n",
      "154/154 [==============================] - 24s 154ms/step - loss: 0.0326 - mean_absolute_error: 0.0326 - root_mean_squared_error: 0.0453 - coeff_determination: 0.7536 - val_loss: 0.0467 - val_mean_absolute_error: 0.0467 - val_root_mean_squared_error: 0.0649 - val_coeff_determination: 0.5254\n",
      "\n",
      "Epoch 00069: val_mean_absolute_error did not improve from 0.04227\n",
      "Epoch 70/80\n",
      "154/154 [==============================] - 24s 153ms/step - loss: 0.0302 - mean_absolute_error: 0.0302 - root_mean_squared_error: 0.0410 - coeff_determination: 0.7830 - val_loss: 0.0479 - val_mean_absolute_error: 0.0479 - val_root_mean_squared_error: 0.0685 - val_coeff_determination: 0.5073\n",
      "\n",
      "Epoch 00070: val_mean_absolute_error did not improve from 0.04227\n",
      "Epoch 71/80\n",
      "154/154 [==============================] - 24s 153ms/step - loss: 0.0320 - mean_absolute_error: 0.0320 - root_mean_squared_error: 0.0463 - coeff_determination: 0.7597 - val_loss: 0.0481 - val_mean_absolute_error: 0.0481 - val_root_mean_squared_error: 0.0661 - val_coeff_determination: 0.5355\n",
      "\n",
      "Epoch 00071: val_mean_absolute_error did not improve from 0.04227\n",
      "Epoch 72/80\n",
      "154/154 [==============================] - 24s 154ms/step - loss: 0.0310 - mean_absolute_error: 0.0310 - root_mean_squared_error: 0.0432 - coeff_determination: 0.7821 - val_loss: 0.0568 - val_mean_absolute_error: 0.0568 - val_root_mean_squared_error: 0.0788 - val_coeff_determination: 0.2710\n",
      "\n",
      "Epoch 00072: val_mean_absolute_error did not improve from 0.04227\n",
      "Epoch 73/80\n",
      "154/154 [==============================] - 24s 153ms/step - loss: 0.0300 - mean_absolute_error: 0.0300 - root_mean_squared_error: 0.0403 - coeff_determination: 0.7713 - val_loss: 0.0469 - val_mean_absolute_error: 0.0469 - val_root_mean_squared_error: 0.0649 - val_coeff_determination: 0.5383\n",
      "\n",
      "Epoch 00073: val_mean_absolute_error did not improve from 0.04227\n",
      "Epoch 74/80\n",
      "154/154 [==============================] - 24s 153ms/step - loss: 0.0296 - mean_absolute_error: 0.0296 - root_mean_squared_error: 0.0419 - coeff_determination: 0.7730 - val_loss: 0.0584 - val_mean_absolute_error: 0.0584 - val_root_mean_squared_error: 0.0864 - val_coeff_determination: 0.2278\n",
      "\n",
      "Epoch 00074: val_mean_absolute_error did not improve from 0.04227\n",
      "Epoch 75/80\n",
      "154/154 [==============================] - 24s 154ms/step - loss: 0.0283 - mean_absolute_error: 0.0283 - root_mean_squared_error: 0.0392 - coeff_determination: 0.7848 - val_loss: 0.0532 - val_mean_absolute_error: 0.0532 - val_root_mean_squared_error: 0.0744 - val_coeff_determination: 0.4150\n",
      "\n",
      "Epoch 00075: val_mean_absolute_error did not improve from 0.04227\n",
      "Epoch 76/80\n",
      "154/154 [==============================] - 24s 153ms/step - loss: 0.0280 - mean_absolute_error: 0.0280 - root_mean_squared_error: 0.0400 - coeff_determination: 0.8148 - val_loss: 0.0449 - val_mean_absolute_error: 0.0449 - val_root_mean_squared_error: 0.0625 - val_coeff_determination: 0.5733\n",
      "\n",
      "Epoch 00076: val_mean_absolute_error did not improve from 0.04227\n",
      "Epoch 77/80\n",
      "154/154 [==============================] - 24s 153ms/step - loss: 0.0289 - mean_absolute_error: 0.0289 - root_mean_squared_error: 0.0397 - coeff_determination: 0.8032 - val_loss: 0.0538 - val_mean_absolute_error: 0.0538 - val_root_mean_squared_error: 0.0756 - val_coeff_determination: 0.3850\n",
      "\n",
      "Epoch 00077: val_mean_absolute_error did not improve from 0.04227\n",
      "Epoch 78/80\n",
      "154/154 [==============================] - 24s 153ms/step - loss: 0.0285 - mean_absolute_error: 0.0285 - root_mean_squared_error: 0.0401 - coeff_determination: 0.7977 - val_loss: 0.0540 - val_mean_absolute_error: 0.0540 - val_root_mean_squared_error: 0.0782 - val_coeff_determination: 0.3521\n",
      "\n",
      "Epoch 00078: val_mean_absolute_error did not improve from 0.04227\n",
      "Epoch 79/80\n",
      "154/154 [==============================] - 24s 154ms/step - loss: 0.0276 - mean_absolute_error: 0.0276 - root_mean_squared_error: 0.0383 - coeff_determination: 0.8107 - val_loss: 0.0497 - val_mean_absolute_error: 0.0497 - val_root_mean_squared_error: 0.0676 - val_coeff_determination: 0.4768\n",
      "\n",
      "Epoch 00079: val_mean_absolute_error did not improve from 0.04227\n",
      "Epoch 80/80\n",
      "154/154 [==============================] - 24s 153ms/step - loss: 0.0257 - mean_absolute_error: 0.0257 - root_mean_squared_error: 0.0359 - coeff_determination: 0.8352 - val_loss: 0.0454 - val_mean_absolute_error: 0.0454 - val_root_mean_squared_error: 0.0629 - val_coeff_determination: 0.5553\n",
      "\n",
      "Epoch 00080: val_mean_absolute_error did not improve from 0.04227\n"
     ]
    }
   ],
   "source": [
    "# train the model \n",
    "\n",
    "hist = model.fit(x_train, y_train, batch_size = 32, epochs = 80, verbose=1, validation_data = (x_val,y_val),callbacks = [checkpoint])"
   ]
  },
  {
   "cell_type": "markdown",
   "id": "30f028fb",
   "metadata": {},
   "source": [
    "### 2.4 Visualizing the training history  \n",
    "In this part, we plot the loss curve and metric curve"
   ]
  },
  {
   "cell_type": "code",
   "execution_count": 21,
   "id": "caa12d5d",
   "metadata": {},
   "outputs": [
    {
     "data": {
      "image/png": "[encoded data removed]",
      "text/plain": [
       "<Figure size 1080x648 with 1 Axes>"
      ]
     },
     "metadata": {
      "needs_background": "light"
     },
     "output_type": "display_data"
    }
   ],
   "source": [
    "# plot model training history\n",
    "\n",
    "fig = plt.subplots(figsize=(15, 9))\n",
    "plt.plot(hist.history[\"loss\"])\n",
    "plt.plot(hist.history[\"val_loss\"])\n",
    "plt.title(\"the loss curve of training and test datasets\")\n",
    "plt.legend(['train', 'val'], loc='upper left')\n",
    "plt.ylabel(\"loss\")\n",
    "plt.xlabel(\"epoch\")\n",
    "\n",
    "plt.savefig('/data/private/Nairobi_MSc/CNN_Model/PC2 Prediction/results_recording/graphs/training_curve/mae_loss.png', dpi = 300)\n",
    "\n",
    "plt.show()\n",
    "\n",
    "#plt.savefig('loss_curve_1.png', dpi = 300)\n",
    "\n"
   ]
  },
  {
   "cell_type": "code",
   "execution_count": 22,
   "id": "26431481",
   "metadata": {},
   "outputs": [
    {
     "data": {
      "image/png": "[encoded data removed]",
      "text/plain": [
       "<Figure size 1080x648 with 1 Axes>"
      ]
     },
     "metadata": {
      "needs_background": "light"
     },
     "output_type": "display_data"
    }
   ],
   "source": [
    "\n",
    "fig = plt.subplots(figsize=(15, 9))\n",
    "plt.plot(hist.history[\"root_mean_squared_error\"])\n",
    "plt.plot(hist.history[\"val_root_mean_squared_error\"])\n",
    "plt.title(\"the root mean square error curve of training and test datasets\")\n",
    "plt.legend(['train', 'val'], loc='upper left')\n",
    "plt.ylabel(\"error rate\")\n",
    "plt.xlabel(\"epoch\")\n",
    "\n",
    "plt.savefig('/data/private/Nairobi_MSc/CNN_Model/PC2 Prediction/results_recording/graphs/training_curve/mae_rmse.png', dpi = 300)\n",
    "\n",
    "plt.show()\n",
    "\n",
    "#plt.savefig('mse_curve_1.png', dpi = 300)"
   ]
  },
  {
   "cell_type": "markdown",
   "id": "571849f7",
   "metadata": {},
   "source": [
    "## 3. Assessing the model performance on test datasets"
   ]
  },
  {
   "cell_type": "markdown",
   "id": "f7df2d64",
   "metadata": {},
   "source": [
    "### 3.1 Save and configure the model with best performance \n",
    "\n",
    "In this step, we will configure the model by reloading the weights of best performance through training, and apply it on both the training and validation datasets. The scatter plots will be created to evaluate the model prediction by comparing training and validation datasets, to see if there are over-/under-estimation or over-fitting etc. "
   ]
  },
  {
   "cell_type": "code",
   "execution_count": 23,
   "id": "cfe190b2",
   "metadata": {},
   "outputs": [],
   "source": [
    "best_model = EqiModel()\n",
    "\n",
    "best_model.load_weights(checkpoint_filepath)"
   ]
  },
  {
   "cell_type": "markdown",
   "id": "e97cca0e",
   "metadata": {},
   "source": [
    "### 3.2 Applying the model on validation datasets "
   ]
  },
  {
   "cell_type": "code",
   "execution_count": 24,
   "id": "88eed9b6",
   "metadata": {},
   "outputs": [],
   "source": [
    "# run the model on the train and test datasets \n",
    "\n",
    "y_pred_val = best_model.predict(x_val) \n",
    "y_pred_train = best_model.predict(x_train)\n"
   ]
  },
  {
   "cell_type": "code",
   "execution_count": 25,
   "id": "8964ed40",
   "metadata": {},
   "outputs": [
    {
     "name": "stdout",
     "output_type": "stream",
     "text": [
      "the R2 of training dataset is: 0.7116\n",
      "the RMSE of training dataset is: 0.0517\n",
      "the MAE of training dataset is: 0.0367\n",
      "the R2 of validation dataset is: 0.6558\n",
      "the RMSE of validation dataset is: 0.0591\n",
      "the MAE of validation dataset is: 0.0423\n"
     ]
    }
   ],
   "source": [
    "# calculate the R2 Score and RMSE\n",
    "\n",
    "from sklearn.metrics import r2_score, mean_squared_error, mean_absolute_error\n",
    "\n",
    "R2_train = r2_score(y_train, y_pred_train)\n",
    "rmse_train = mean_squared_error(y_train, y_pred_train,squared=False) \n",
    "mae_train = mean_absolute_error(y_train, y_pred_train)\n",
    "\n",
    "print(\"the R2 of training dataset is: %0.4f\" %R2_train)\n",
    "print(\"the RMSE of training dataset is: %0.4f\" %rmse_train)\n",
    "print(\"the MAE of training dataset is: %0.4f\" %mae_train)\n",
    "\n",
    "\n",
    "R2_val = r2_score(y_val,y_pred_val)\n",
    "rmse_val = mean_squared_error(y_val, y_pred_val,squared=False) \n",
    "mae_val = mean_absolute_error(y_val, y_pred_val) \n",
    "\n",
    "print(\"the R2 of validation dataset is: %0.4f\" %R2_val)\n",
    "print(\"the RMSE of validation dataset is: %0.4f\" %rmse_val)\n",
    "print(\"the MAE of validation dataset is: %0.4f\" %mae_val)"
   ]
  },
  {
   "cell_type": "code",
   "execution_count": 26,
   "id": "07a89af1",
   "metadata": {},
   "outputs": [
    {
     "data": {
      "image/png": "[encoded data removed]",
      "text/plain": [
       "<Figure size 576x576 with 1 Axes>"
      ]
     },
     "metadata": {
      "needs_background": "light"
     },
     "output_type": "display_data"
    }
   ],
   "source": [
    "fig = plt.figure(figsize=(8,8)) \n",
    "ax=plt.subplot(1,1,1) \n",
    "ax.scatter(y_train, y_pred_train)  \n",
    "ax.plot(np.linspace(0,1,100), np.linspace(0,1,100), c = 'orange', linestyle='--')\n",
    "ax.set_title(\"Train: prediction vs actual deprivation value\")\n",
    "ax.set_xlabel(\"Actual values\")\n",
    "ax.set_ylabel(\"Predicted values\")\n",
    "ax.set_xlim([0,1.0])\n",
    "ax.set_ylim([0,1.0])\n",
    "\n",
    "ax.text(0.2, 0.85, \"R-squared = %0.4f\" % R2_train, fontsize=12, color = \"r\", style = \"italic\", weight = \"light\", verticalalignment='center', horizontalalignment='left')\n",
    "ax.text(0.2, 0.8, \"RMSE = %0.4f\" % rmse_train, fontsize=12, color = \"r\", style = \"italic\", weight = \"light\", verticalalignment='center', horizontalalignment='left')\n",
    "ax.text(0.2, 0.75, \"MAE = %0.4f\" % mae_train, fontsize=12, color = \"r\", style = \"italic\", weight = \"light\", verticalalignment='center', horizontalalignment='left')\n",
    "\n",
    "plt.savefig('/data/private/Nairobi_MSc/CNN_Model/PC2 Prediction/results_recording/graphs/scatter_plot/mae_train.png', dpi = 300)\n",
    "\n",
    "plt.show()"
   ]
  },
  {
   "cell_type": "code",
   "execution_count": 27,
   "id": "067965af-c5f0-43da-afc5-f9986fd2de49",
   "metadata": {},
   "outputs": [
    {
     "data": {
      "image/png": "[encoded data removed]",
      "text/plain": [
       "<Figure size 576x576 with 1 Axes>"
      ]
     },
     "metadata": {
      "needs_background": "light"
     },
     "output_type": "display_data"
    }
   ],
   "source": [
    "fig = plt.figure(figsize=(8,8)) \n",
    "ax=plt.subplot(1,1,1) \n",
    "ax.scatter(y_val, y_pred_val)  \n",
    "ax.plot(np.linspace(0,1,100), np.linspace(0,1,100), c = 'orange', linestyle='--')\n",
    "ax.set_title(\"Vlidation dataset: prediction vs actual deprivation value\")\n",
    "ax.set_xlabel(\"Actual values\")\n",
    "ax.set_ylabel(\"Predicted values\")\n",
    "ax.set_xlim([0,1.0])\n",
    "ax.set_ylim([0,1.0])\n",
    "\n",
    "ax.text(0.2, 0.85, \"R-squared = %0.4f\" % R2_val, fontsize=12, color = \"r\", style = \"italic\", weight = \"light\", verticalalignment='center', horizontalalignment='left')\n",
    "ax.text(0.2, 0.8, \"RMSE = %0.4f\" % rmse_val, fontsize=12, color = \"r\", style = \"italic\", weight = \"light\", verticalalignment='center', horizontalalignment='left')\n",
    "ax.text(0.2, 0.75, \"MAE = %0.4f\" % mae_val, fontsize=12, color = \"r\", style = \"italic\", weight = \"light\", verticalalignment='center', horizontalalignment='left')\n",
    "\n",
    "plt.savefig('/data/private/Nairobi_MSc/CNN_Model/PC2 Prediction/results_recording/graphs/scatter_plot/mae_val.png', dpi = 300)\n",
    "\n",
    "plt.show()"
   ]
  },
  {
   "cell_type": "code",
   "execution_count": null,
   "id": "7b29eea8-af07-413f-b078-6e0e5fe4cace",
   "metadata": {},
   "outputs": [],
   "source": []
  }
 ],
 "metadata": {
  "kernelspec": {
   "display_name": "Python 3 (ipykernel)",
   "language": "python",
   "name": "python3"
  },
  "language_info": {
   "codemirror_mode": {
    "name": "ipython",
    "version": 3
   },
   "file_extension": ".py",
   "mimetype": "text/x-python",
   "name": "python",
   "nbconvert_exporter": "python",
   "pygments_lexer": "ipython3",
   "version": "3.7.6"
  }
 },
 "nbformat": 4,
 "nbformat_minor": 5
}
